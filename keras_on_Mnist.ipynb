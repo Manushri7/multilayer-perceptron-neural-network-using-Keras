{
  "nbformat": 4,
  "nbformat_minor": 0,
  "metadata": {
    "kernelspec": {
      "display_name": "Python 3",
      "language": "python",
      "name": "python3"
    },
    "language_info": {
      "codemirror_mode": {
        "name": "ipython",
        "version": 3
      },
      "file_extension": ".py",
      "mimetype": "text/x-python",
      "name": "python",
      "nbconvert_exporter": "python",
      "pygments_lexer": "ipython3",
      "version": "3.8.5"
    },
    "colab": {
      "name": "Assignment_keras_on_Mnist.ipynb",
      "provenance": [],
      "collapsed_sections": []
    }
  },
  "cells": [
    {
      "cell_type": "markdown",
      "metadata": {
        "id": "OQ-HfgO8O3C-"
      },
      "source": [
        "# Keras -- MLPs on MNIST"
      ]
    },
    {
      "cell_type": "code",
      "metadata": {
        "id": "buXkUgKeO3C_"
      },
      "source": [
        "import tensorflow as tf\n",
        "from tensorflow.keras import utils\n",
        "from tensorflow.keras.datasets import mnist \n",
        "import seaborn as sns\n",
        "from tensorflow.keras.initializers import RandomNormal\n",
        "from tensorflow.python.keras import Input, Model\n",
        "from tensorflow.keras.layers import Dense, Activation \n",
        "from tensorflow.python.keras.layers import Dense, BatchNormalization\n",
        "from tensorflow.keras.models import Sequential \n",
        "%matplotlib notebook\n",
        "import matplotlib.pyplot as plt\n",
        "import numpy as np\n",
        "import time"
      ],
      "execution_count": 1,
      "outputs": []
    },
    {
      "cell_type": "code",
      "metadata": {
        "id": "NkMzFL-SO3DA"
      },
      "source": [
        "\n",
        "# https://gist.github.com/greydanus/f6eee59eaf1d90fcb3b534a25362cea4\n",
        "# https://stackoverflow.com/a/14434334\n",
        "# this function is used to update the plots for each epoch and error\n",
        "def plt_dynamic(x, vy, ty, ax, colors=['b']):\n",
        "    ax.plot(x, vy, 'b', label=\"Validation Loss\")\n",
        "    ax.plot(x, ty, 'r', label=\"Train Loss\")\n",
        "    plt.legend()\n",
        "    plt.grid()\n",
        "    fig.canvas.draw()"
      ],
      "execution_count": 2,
      "outputs": []
    },
    {
      "cell_type": "markdown",
      "metadata": {
        "id": "JoZxfrniO3DA"
      },
      "source": [
        "## 1.Load data "
      ]
    },
    {
      "cell_type": "code",
      "metadata": {
        "colab": {
          "base_uri": "https://localhost:8080/"
        },
        "id": "jZQu27iYO3DA",
        "outputId": "71a1bcc7-0839-4852-e8fa-011e094840db"
      },
      "source": [
        "(X_train, y_train), (X_test, y_test) = mnist.load_data()"
      ],
      "execution_count": 3,
      "outputs": [
        {
          "output_type": "stream",
          "text": [
            "Downloading data from https://storage.googleapis.com/tensorflow/tf-keras-datasets/mnist.npz\n",
            "11493376/11490434 [==============================] - 0s 0us/step\n",
            "11501568/11490434 [==============================] - 0s 0us/step\n"
          ],
          "name": "stdout"
        }
      ]
    },
    {
      "cell_type": "code",
      "metadata": {
        "colab": {
          "base_uri": "https://localhost:8080/"
        },
        "id": "8jsotrcCO3DA",
        "outputId": "b0f0d9c5-675d-4e91-f693-3a8db73ac0d8"
      },
      "source": [
        "print(\"Number of training examples :\", X_train.shape[0], \"and each image is of shape (%d, %d)\"%(X_train.shape[1], X_train.shape[2]))\n",
        "print(\"Number of training examples :\", X_test.shape[0], \"and each image is of shape (%d, %d)\"%(X_test.shape[1], X_test.shape[2]))"
      ],
      "execution_count": 4,
      "outputs": [
        {
          "output_type": "stream",
          "text": [
            "Number of training examples : 60000 and each image is of shape (28, 28)\n",
            "Number of training examples : 10000 and each image is of shape (28, 28)\n"
          ],
          "name": "stdout"
        }
      ]
    },
    {
      "cell_type": "code",
      "metadata": {
        "id": "nHgCkXLRO3DA"
      },
      "source": [
        "# if you observe the input shape its 2 dimensional vector\n",
        "# for each image we have a (28*28) vector\n",
        "# we will convert the (28*28) vector into single dimensional vector of 1 * 784 \n",
        "\n",
        "X_train = X_train.reshape(X_train.shape[0], X_train.shape[1]*X_train.shape[2]) \n",
        "X_test = X_test.reshape(X_test.shape[0], X_test.shape[1]*X_test.shape[2]) "
      ],
      "execution_count": 5,
      "outputs": []
    },
    {
      "cell_type": "code",
      "metadata": {
        "colab": {
          "base_uri": "https://localhost:8080/"
        },
        "id": "2Il6-7AnO3DB",
        "outputId": "9907097f-5c53-4b63-f649-12ad6977e791"
      },
      "source": [
        "# after converting the input images from 3d to 2d vectors\n",
        "\n",
        "print(\"Number of training examples :\", X_train.shape[0], \"and each image is of shape (%d)\"%(X_train.shape[1]))\n",
        "print(\"Number of training examples :\", X_test.shape[0], \"and each image is of shape (%d)\"%(X_test.shape[1]))"
      ],
      "execution_count": 6,
      "outputs": [
        {
          "output_type": "stream",
          "text": [
            "Number of training examples : 60000 and each image is of shape (784)\n",
            "Number of training examples : 10000 and each image is of shape (784)\n"
          ],
          "name": "stdout"
        }
      ]
    },
    {
      "cell_type": "code",
      "metadata": {
        "colab": {
          "base_uri": "https://localhost:8080/"
        },
        "id": "-qvRtPSaO3DB",
        "outputId": "16fce594-8e34-44ed-ce8e-994e9144aca7"
      },
      "source": [
        "# An example data point\n",
        "print(X_train[0])"
      ],
      "execution_count": 7,
      "outputs": [
        {
          "output_type": "stream",
          "text": [
            "[  0   0   0   0   0   0   0   0   0   0   0   0   0   0   0   0   0   0\n",
            "   0   0   0   0   0   0   0   0   0   0   0   0   0   0   0   0   0   0\n",
            "   0   0   0   0   0   0   0   0   0   0   0   0   0   0   0   0   0   0\n",
            "   0   0   0   0   0   0   0   0   0   0   0   0   0   0   0   0   0   0\n",
            "   0   0   0   0   0   0   0   0   0   0   0   0   0   0   0   0   0   0\n",
            "   0   0   0   0   0   0   0   0   0   0   0   0   0   0   0   0   0   0\n",
            "   0   0   0   0   0   0   0   0   0   0   0   0   0   0   0   0   0   0\n",
            "   0   0   0   0   0   0   0   0   0   0   0   0   0   0   0   0   0   0\n",
            "   0   0   0   0   0   0   0   0   3  18  18  18 126 136 175  26 166 255\n",
            " 247 127   0   0   0   0   0   0   0   0   0   0   0   0  30  36  94 154\n",
            " 170 253 253 253 253 253 225 172 253 242 195  64   0   0   0   0   0   0\n",
            "   0   0   0   0   0  49 238 253 253 253 253 253 253 253 253 251  93  82\n",
            "  82  56  39   0   0   0   0   0   0   0   0   0   0   0   0  18 219 253\n",
            " 253 253 253 253 198 182 247 241   0   0   0   0   0   0   0   0   0   0\n",
            "   0   0   0   0   0   0   0   0  80 156 107 253 253 205  11   0  43 154\n",
            "   0   0   0   0   0   0   0   0   0   0   0   0   0   0   0   0   0   0\n",
            "   0  14   1 154 253  90   0   0   0   0   0   0   0   0   0   0   0   0\n",
            "   0   0   0   0   0   0   0   0   0   0   0   0   0 139 253 190   2   0\n",
            "   0   0   0   0   0   0   0   0   0   0   0   0   0   0   0   0   0   0\n",
            "   0   0   0   0   0  11 190 253  70   0   0   0   0   0   0   0   0   0\n",
            "   0   0   0   0   0   0   0   0   0   0   0   0   0   0   0   0  35 241\n",
            " 225 160 108   1   0   0   0   0   0   0   0   0   0   0   0   0   0   0\n",
            "   0   0   0   0   0   0   0   0   0  81 240 253 253 119  25   0   0   0\n",
            "   0   0   0   0   0   0   0   0   0   0   0   0   0   0   0   0   0   0\n",
            "   0   0  45 186 253 253 150  27   0   0   0   0   0   0   0   0   0   0\n",
            "   0   0   0   0   0   0   0   0   0   0   0   0   0  16  93 252 253 187\n",
            "   0   0   0   0   0   0   0   0   0   0   0   0   0   0   0   0   0   0\n",
            "   0   0   0   0   0   0   0 249 253 249  64   0   0   0   0   0   0   0\n",
            "   0   0   0   0   0   0   0   0   0   0   0   0   0   0  46 130 183 253\n",
            " 253 207   2   0   0   0   0   0   0   0   0   0   0   0   0   0   0   0\n",
            "   0   0   0   0  39 148 229 253 253 253 250 182   0   0   0   0   0   0\n",
            "   0   0   0   0   0   0   0   0   0   0   0   0  24 114 221 253 253 253\n",
            " 253 201  78   0   0   0   0   0   0   0   0   0   0   0   0   0   0   0\n",
            "   0   0  23  66 213 253 253 253 253 198  81   2   0   0   0   0   0   0\n",
            "   0   0   0   0   0   0   0   0   0   0  18 171 219 253 253 253 253 195\n",
            "  80   9   0   0   0   0   0   0   0   0   0   0   0   0   0   0   0   0\n",
            "  55 172 226 253 253 253 253 244 133  11   0   0   0   0   0   0   0   0\n",
            "   0   0   0   0   0   0   0   0   0   0 136 253 253 253 212 135 132  16\n",
            "   0   0   0   0   0   0   0   0   0   0   0   0   0   0   0   0   0   0\n",
            "   0   0   0   0   0   0   0   0   0   0   0   0   0   0   0   0   0   0\n",
            "   0   0   0   0   0   0   0   0   0   0   0   0   0   0   0   0   0   0\n",
            "   0   0   0   0   0   0   0   0   0   0   0   0   0   0   0   0   0   0\n",
            "   0   0   0   0   0   0   0   0   0   0   0   0   0   0   0   0   0   0\n",
            "   0   0   0   0   0   0   0   0   0   0]\n"
          ],
          "name": "stdout"
        }
      ]
    },
    {
      "cell_type": "code",
      "metadata": {
        "id": "R2bpNC2GO3DB"
      },
      "source": [
        "# if we observe the above matrix each cell is having a value between 0-255\n",
        "# before we move to apply machine learning algorithms lets try to normalize the data\n",
        "# X => (X - Xmin)/(Xmax-Xmin) = X/255\n",
        "\n",
        "X_train = X_train/255\n",
        "X_test = X_test/255"
      ],
      "execution_count": 8,
      "outputs": []
    },
    {
      "cell_type": "code",
      "metadata": {
        "colab": {
          "base_uri": "https://localhost:8080/"
        },
        "id": "UO8ciZLPO3DB",
        "outputId": "b1e66d05-c06b-468d-f7a8-b24bd99e35b6"
      },
      "source": [
        "# example data point after normlizing\n",
        "print(X_train[0])"
      ],
      "execution_count": 9,
      "outputs": [
        {
          "output_type": "stream",
          "text": [
            "[0.         0.         0.         0.         0.         0.\n",
            " 0.         0.         0.         0.         0.         0.\n",
            " 0.         0.         0.         0.         0.         0.\n",
            " 0.         0.         0.         0.         0.         0.\n",
            " 0.         0.         0.         0.         0.         0.\n",
            " 0.         0.         0.         0.         0.         0.\n",
            " 0.         0.         0.         0.         0.         0.\n",
            " 0.         0.         0.         0.         0.         0.\n",
            " 0.         0.         0.         0.         0.         0.\n",
            " 0.         0.         0.         0.         0.         0.\n",
            " 0.         0.         0.         0.         0.         0.\n",
            " 0.         0.         0.         0.         0.         0.\n",
            " 0.         0.         0.         0.         0.         0.\n",
            " 0.         0.         0.         0.         0.         0.\n",
            " 0.         0.         0.         0.         0.         0.\n",
            " 0.         0.         0.         0.         0.         0.\n",
            " 0.         0.         0.         0.         0.         0.\n",
            " 0.         0.         0.         0.         0.         0.\n",
            " 0.         0.         0.         0.         0.         0.\n",
            " 0.         0.         0.         0.         0.         0.\n",
            " 0.         0.         0.         0.         0.         0.\n",
            " 0.         0.         0.         0.         0.         0.\n",
            " 0.         0.         0.         0.         0.         0.\n",
            " 0.         0.         0.         0.         0.         0.\n",
            " 0.         0.         0.         0.         0.         0.\n",
            " 0.         0.         0.01176471 0.07058824 0.07058824 0.07058824\n",
            " 0.49411765 0.53333333 0.68627451 0.10196078 0.65098039 1.\n",
            " 0.96862745 0.49803922 0.         0.         0.         0.\n",
            " 0.         0.         0.         0.         0.         0.\n",
            " 0.         0.         0.11764706 0.14117647 0.36862745 0.60392157\n",
            " 0.66666667 0.99215686 0.99215686 0.99215686 0.99215686 0.99215686\n",
            " 0.88235294 0.6745098  0.99215686 0.94901961 0.76470588 0.25098039\n",
            " 0.         0.         0.         0.         0.         0.\n",
            " 0.         0.         0.         0.         0.         0.19215686\n",
            " 0.93333333 0.99215686 0.99215686 0.99215686 0.99215686 0.99215686\n",
            " 0.99215686 0.99215686 0.99215686 0.98431373 0.36470588 0.32156863\n",
            " 0.32156863 0.21960784 0.15294118 0.         0.         0.\n",
            " 0.         0.         0.         0.         0.         0.\n",
            " 0.         0.         0.         0.07058824 0.85882353 0.99215686\n",
            " 0.99215686 0.99215686 0.99215686 0.99215686 0.77647059 0.71372549\n",
            " 0.96862745 0.94509804 0.         0.         0.         0.\n",
            " 0.         0.         0.         0.         0.         0.\n",
            " 0.         0.         0.         0.         0.         0.\n",
            " 0.         0.         0.31372549 0.61176471 0.41960784 0.99215686\n",
            " 0.99215686 0.80392157 0.04313725 0.         0.16862745 0.60392157\n",
            " 0.         0.         0.         0.         0.         0.\n",
            " 0.         0.         0.         0.         0.         0.\n",
            " 0.         0.         0.         0.         0.         0.\n",
            " 0.         0.05490196 0.00392157 0.60392157 0.99215686 0.35294118\n",
            " 0.         0.         0.         0.         0.         0.\n",
            " 0.         0.         0.         0.         0.         0.\n",
            " 0.         0.         0.         0.         0.         0.\n",
            " 0.         0.         0.         0.         0.         0.\n",
            " 0.         0.54509804 0.99215686 0.74509804 0.00784314 0.\n",
            " 0.         0.         0.         0.         0.         0.\n",
            " 0.         0.         0.         0.         0.         0.\n",
            " 0.         0.         0.         0.         0.         0.\n",
            " 0.         0.         0.         0.         0.         0.04313725\n",
            " 0.74509804 0.99215686 0.2745098  0.         0.         0.\n",
            " 0.         0.         0.         0.         0.         0.\n",
            " 0.         0.         0.         0.         0.         0.\n",
            " 0.         0.         0.         0.         0.         0.\n",
            " 0.         0.         0.         0.         0.1372549  0.94509804\n",
            " 0.88235294 0.62745098 0.42352941 0.00392157 0.         0.\n",
            " 0.         0.         0.         0.         0.         0.\n",
            " 0.         0.         0.         0.         0.         0.\n",
            " 0.         0.         0.         0.         0.         0.\n",
            " 0.         0.         0.         0.31764706 0.94117647 0.99215686\n",
            " 0.99215686 0.46666667 0.09803922 0.         0.         0.\n",
            " 0.         0.         0.         0.         0.         0.\n",
            " 0.         0.         0.         0.         0.         0.\n",
            " 0.         0.         0.         0.         0.         0.\n",
            " 0.         0.         0.17647059 0.72941176 0.99215686 0.99215686\n",
            " 0.58823529 0.10588235 0.         0.         0.         0.\n",
            " 0.         0.         0.         0.         0.         0.\n",
            " 0.         0.         0.         0.         0.         0.\n",
            " 0.         0.         0.         0.         0.         0.\n",
            " 0.         0.0627451  0.36470588 0.98823529 0.99215686 0.73333333\n",
            " 0.         0.         0.         0.         0.         0.\n",
            " 0.         0.         0.         0.         0.         0.\n",
            " 0.         0.         0.         0.         0.         0.\n",
            " 0.         0.         0.         0.         0.         0.\n",
            " 0.         0.97647059 0.99215686 0.97647059 0.25098039 0.\n",
            " 0.         0.         0.         0.         0.         0.\n",
            " 0.         0.         0.         0.         0.         0.\n",
            " 0.         0.         0.         0.         0.         0.\n",
            " 0.         0.         0.18039216 0.50980392 0.71764706 0.99215686\n",
            " 0.99215686 0.81176471 0.00784314 0.         0.         0.\n",
            " 0.         0.         0.         0.         0.         0.\n",
            " 0.         0.         0.         0.         0.         0.\n",
            " 0.         0.         0.         0.         0.15294118 0.58039216\n",
            " 0.89803922 0.99215686 0.99215686 0.99215686 0.98039216 0.71372549\n",
            " 0.         0.         0.         0.         0.         0.\n",
            " 0.         0.         0.         0.         0.         0.\n",
            " 0.         0.         0.         0.         0.         0.\n",
            " 0.09411765 0.44705882 0.86666667 0.99215686 0.99215686 0.99215686\n",
            " 0.99215686 0.78823529 0.30588235 0.         0.         0.\n",
            " 0.         0.         0.         0.         0.         0.\n",
            " 0.         0.         0.         0.         0.         0.\n",
            " 0.         0.         0.09019608 0.25882353 0.83529412 0.99215686\n",
            " 0.99215686 0.99215686 0.99215686 0.77647059 0.31764706 0.00784314\n",
            " 0.         0.         0.         0.         0.         0.\n",
            " 0.         0.         0.         0.         0.         0.\n",
            " 0.         0.         0.         0.         0.07058824 0.67058824\n",
            " 0.85882353 0.99215686 0.99215686 0.99215686 0.99215686 0.76470588\n",
            " 0.31372549 0.03529412 0.         0.         0.         0.\n",
            " 0.         0.         0.         0.         0.         0.\n",
            " 0.         0.         0.         0.         0.         0.\n",
            " 0.21568627 0.6745098  0.88627451 0.99215686 0.99215686 0.99215686\n",
            " 0.99215686 0.95686275 0.52156863 0.04313725 0.         0.\n",
            " 0.         0.         0.         0.         0.         0.\n",
            " 0.         0.         0.         0.         0.         0.\n",
            " 0.         0.         0.         0.         0.53333333 0.99215686\n",
            " 0.99215686 0.99215686 0.83137255 0.52941176 0.51764706 0.0627451\n",
            " 0.         0.         0.         0.         0.         0.\n",
            " 0.         0.         0.         0.         0.         0.\n",
            " 0.         0.         0.         0.         0.         0.\n",
            " 0.         0.         0.         0.         0.         0.\n",
            " 0.         0.         0.         0.         0.         0.\n",
            " 0.         0.         0.         0.         0.         0.\n",
            " 0.         0.         0.         0.         0.         0.\n",
            " 0.         0.         0.         0.         0.         0.\n",
            " 0.         0.         0.         0.         0.         0.\n",
            " 0.         0.         0.         0.         0.         0.\n",
            " 0.         0.         0.         0.         0.         0.\n",
            " 0.         0.         0.         0.         0.         0.\n",
            " 0.         0.         0.         0.         0.         0.\n",
            " 0.         0.         0.         0.         0.         0.\n",
            " 0.         0.         0.         0.         0.         0.\n",
            " 0.         0.         0.         0.         0.         0.\n",
            " 0.         0.         0.         0.        ]\n"
          ],
          "name": "stdout"
        }
      ]
    },
    {
      "cell_type": "code",
      "metadata": {
        "colab": {
          "base_uri": "https://localhost:8080/"
        },
        "id": "W1MXvKPnO3DB",
        "outputId": "8ddf1b06-8d62-4e69-894b-9d0aab55a30a"
      },
      "source": [
        "# here we are having a class number for each image.y{0,1,2.....9}\n",
        "print(\"Class label of first image :\", y_train[0])\n",
        "\n",
        "# lets convert this into a 10 dimensional vector\n",
        "# ex: consider an image is 5 convert it into 5 => [0, 0, 0, 0, 0, 1, 0, 0, 0, 0]\n",
        "# this conversion needed for MLPs \n",
        "\n",
        "Y_train = utils.to_categorical(y_train, 10) \n",
        "Y_test = utils.to_categorical(y_test, 10)\n",
        "\n",
        "print(\"After converting the output into a vector : \",Y_train[0])"
      ],
      "execution_count": 10,
      "outputs": [
        {
          "output_type": "stream",
          "text": [
            "Class label of first image : 5\n",
            "After converting the output into a vector :  [0. 0. 0. 0. 0. 1. 0. 0. 0. 0.]\n"
          ],
          "name": "stdout"
        }
      ]
    },
    {
      "cell_type": "markdown",
      "metadata": {
        "id": "lSJSPaMjO3DC"
      },
      "source": [
        "## 2.simple Input output model with no hidden layer"
      ]
    },
    {
      "cell_type": "markdown",
      "metadata": {
        "id": "07GSAU7eO3DC"
      },
      "source": [
        "### 2.1 intialize parametrs"
      ]
    },
    {
      "cell_type": "code",
      "metadata": {
        "id": "dxCvUCD_O3DC"
      },
      "source": [
        "# some model parameters\n",
        "\n",
        "output_dim = 10\n",
        "input_dim = X_train.shape[1] # 784\n",
        "\n",
        "batch_size = 128 \n",
        "nb_epoch = 20"
      ],
      "execution_count": 11,
      "outputs": []
    },
    {
      "cell_type": "markdown",
      "metadata": {
        "id": "XSgKsKqoO3DC"
      },
      "source": [
        "### 2.2 intialize model"
      ]
    },
    {
      "cell_type": "code",
      "metadata": {
        "id": "aL1abMH3O3DC"
      },
      "source": [
        "# start building a model\n",
        "#input(728)-->outpu(10) as 10 classes are there\n",
        "\n",
        "model = Sequential()\n",
        "\n",
        "model.add(Dense(output_dim, input_dim=input_dim, activation='softmax'))"
      ],
      "execution_count": 12,
      "outputs": []
    },
    {
      "cell_type": "markdown",
      "metadata": {
        "id": "b3Lp8s1XO3DD"
      },
      "source": [
        "### 2.3 Configure model and fit on train data"
      ]
    },
    {
      "cell_type": "code",
      "metadata": {
        "colab": {
          "base_uri": "https://localhost:8080/"
        },
        "id": "e6leR4GWO3DD",
        "outputId": "25585e27-b28e-46de-e18c-dc648d968a35"
      },
      "source": [
        "# Before training a model, you need to configure the learning process, which is done via the compile method\n",
        "#fit() function Trains the model for a fixed number of epochs (iterations on a dataset).\n",
        "\n",
        "model.compile(optimizer='sgd', loss='categorical_crossentropy', metrics=['accuracy'])\n",
        "history = model.fit(X_train, Y_train, steps_per_epoch=500, epochs=nb_epoch, verbose=1, validation_data=(X_test, Y_test)) "
      ],
      "execution_count": 13,
      "outputs": [
        {
          "output_type": "stream",
          "text": [
            "Epoch 1/20\n",
            "500/500 [==============================] - 2s 3ms/step - loss: 1.2684 - accuracy: 0.6990 - val_loss: 0.7962 - val_accuracy: 0.8329\n",
            "Epoch 2/20\n",
            "500/500 [==============================] - 1s 2ms/step - loss: 0.7006 - accuracy: 0.8413 - val_loss: 0.5967 - val_accuracy: 0.8615\n",
            "Epoch 3/20\n",
            "500/500 [==============================] - 1s 2ms/step - loss: 0.5761 - accuracy: 0.8595 - val_loss: 0.5176 - val_accuracy: 0.8760\n",
            "Epoch 4/20\n",
            "500/500 [==============================] - 1s 3ms/step - loss: 0.5165 - accuracy: 0.8697 - val_loss: 0.4731 - val_accuracy: 0.8829\n",
            "Epoch 5/20\n",
            "500/500 [==============================] - 1s 3ms/step - loss: 0.4803 - accuracy: 0.8763 - val_loss: 0.4443 - val_accuracy: 0.8878\n",
            "Epoch 6/20\n",
            "500/500 [==============================] - 1s 2ms/step - loss: 0.4553 - accuracy: 0.8806 - val_loss: 0.4235 - val_accuracy: 0.8908\n",
            "Epoch 7/20\n",
            "500/500 [==============================] - 1s 2ms/step - loss: 0.4368 - accuracy: 0.8838 - val_loss: 0.4080 - val_accuracy: 0.8940\n",
            "Epoch 8/20\n",
            "500/500 [==============================] - 1s 2ms/step - loss: 0.4223 - accuracy: 0.8870 - val_loss: 0.3955 - val_accuracy: 0.8964\n",
            "Epoch 9/20\n",
            "500/500 [==============================] - 1s 2ms/step - loss: 0.4107 - accuracy: 0.8896 - val_loss: 0.3853 - val_accuracy: 0.8980\n",
            "Epoch 10/20\n",
            "500/500 [==============================] - 1s 2ms/step - loss: 0.4010 - accuracy: 0.8920 - val_loss: 0.3768 - val_accuracy: 0.8995\n",
            "Epoch 11/20\n",
            "500/500 [==============================] - 1s 3ms/step - loss: 0.3928 - accuracy: 0.8939 - val_loss: 0.3695 - val_accuracy: 0.9005\n",
            "Epoch 12/20\n",
            "500/500 [==============================] - 1s 2ms/step - loss: 0.3857 - accuracy: 0.8956 - val_loss: 0.3637 - val_accuracy: 0.9018\n",
            "Epoch 13/20\n",
            "500/500 [==============================] - 1s 3ms/step - loss: 0.3795 - accuracy: 0.8967 - val_loss: 0.3582 - val_accuracy: 0.9028\n",
            "Epoch 14/20\n",
            "500/500 [==============================] - 1s 2ms/step - loss: 0.3741 - accuracy: 0.8980 - val_loss: 0.3533 - val_accuracy: 0.9042\n",
            "Epoch 15/20\n",
            "500/500 [==============================] - 1s 2ms/step - loss: 0.3691 - accuracy: 0.8986 - val_loss: 0.3494 - val_accuracy: 0.9040\n",
            "Epoch 16/20\n",
            "500/500 [==============================] - 1s 2ms/step - loss: 0.3648 - accuracy: 0.8996 - val_loss: 0.3451 - val_accuracy: 0.9062\n",
            "Epoch 17/20\n",
            "500/500 [==============================] - 1s 2ms/step - loss: 0.3608 - accuracy: 0.9006 - val_loss: 0.3416 - val_accuracy: 0.9064\n",
            "Epoch 18/20\n",
            "500/500 [==============================] - 1s 2ms/step - loss: 0.3572 - accuracy: 0.9013 - val_loss: 0.3387 - val_accuracy: 0.9070\n",
            "Epoch 19/20\n",
            "500/500 [==============================] - 1s 2ms/step - loss: 0.3538 - accuracy: 0.9021 - val_loss: 0.3357 - val_accuracy: 0.9077\n",
            "Epoch 20/20\n",
            "500/500 [==============================] - 1s 2ms/step - loss: 0.3507 - accuracy: 0.9024 - val_loss: 0.3330 - val_accuracy: 0.9081\n"
          ],
          "name": "stdout"
        }
      ]
    },
    {
      "cell_type": "code",
      "metadata": {
        "id": "XYmQ3vYRO3DD"
      },
      "source": [
        ""
      ],
      "execution_count": 13,
      "outputs": []
    },
    {
      "cell_type": "code",
      "metadata": {
        "colab": {
          "base_uri": "https://localhost:8080/",
          "height": 313
        },
        "id": "eWXTyIIuO3DD",
        "outputId": "708bca14-0257-4ea8-8bbf-f0a926e5fcbd"
      },
      "source": [
        "score = model.evaluate(X_test, Y_test, verbose=0) \n",
        "print('Test score:', score[0]) \n",
        "print('Test accuracy:', score[1])\n",
        "\n",
        "fig,ax = plt.subplots(1,1)\n",
        "ax.set_xlabel('epoch') ; ax.set_ylabel('Categorical Crossentropy Loss')\n",
        "\n",
        "# list of epoch numbers\n",
        "x = list(range(1,nb_epoch+1))\n",
        "\n",
        "# print(history.history.keys())\n",
        "# dict_keys(['val_loss', 'val_acc', 'loss', 'acc'])\n",
        "# history = model_drop.fit(X_train, Y_train, batch_size=batch_size, epochs=nb_epoch, verbose=1, validation_data=(X_test, Y_test))\n",
        "\n",
        "# we will get val_loss and val_acc only when you pass the paramter validation_data\n",
        "# val_loss : validation loss\n",
        "# val_acc : validation accuracy\n",
        "\n",
        "# loss : training loss\n",
        "# acc : train accuracy\n",
        "# for each key in histrory.histrory we will have a list of length equal to number of epochs\n",
        "\n",
        "vy = history.history['val_loss']\n",
        "ty = history.history['loss']\n",
        "plt_dynamic(x, vy, ty, ax)"
      ],
      "execution_count": 14,
      "outputs": [
        {
          "output_type": "stream",
          "text": [
            "Test score: 0.3329598903656006\n",
            "Test accuracy: 0.9081000089645386\n"
          ],
          "name": "stdout"
        },
        {
          "output_type": "display_data",
          "data": {
            "image/png": "[encoded data removed]",
            "text/plain": [
              "<Figure size 432x288 with 1 Axes>"
            ]
          },
          "metadata": {
            "needs_background": "light"
          }
        }
      ]
    },
    {
      "cell_type": "markdown",
      "metadata": {
        "id": "n4Szadk1O3DD"
      },
      "source": [
        "# Assignment start Below"
      ]
    },
    {
      "cell_type": "markdown",
      "metadata": {
        "id": "2r4jMoeUO3DE"
      },
      "source": [
        "# 1.Two hidden layer Architecture "
      ]
    },
    {
      "cell_type": "markdown",
      "metadata": {
        "id": "83T4AUMQO3DE"
      },
      "source": [
        "## 1.1 Two hidden layer with Relu + Adam"
      ]
    },
    {
      "cell_type": "code",
      "metadata": {
        "colab": {
          "base_uri": "https://localhost:8080/"
        },
        "id": "dF6lu13HO3DE",
        "outputId": "aac1917b-8ff1-4dde-c14c-0254ab0f5d7f"
      },
      "source": [
        "model1_relu = Sequential()\n",
        "model1_relu.add(Dense(420, activation='relu', input_shape=(input_dim,)))\n",
        "model1_relu.add(Dense(100, activation='relu'))\n",
        "model1_relu.add(Dense(output_dim, activation='softmax'))\n",
        "model1_relu.build()\n",
        "model1_relu.summary()"
      ],
      "execution_count": 28,
      "outputs": [
        {
          "output_type": "stream",
          "text": [
            "Model: \"sequential_5\"\n",
            "_________________________________________________________________\n",
            "Layer (type)                 Output Shape              Param #   \n",
            "=================================================================\n",
            "dense_3 (Dense)              (None, 420)               329700    \n",
            "_________________________________________________________________\n",
            "dense_4 (Dense)              (None, 100)               42100     \n",
            "_________________________________________________________________\n",
            "dense_5 (Dense)              (None, 10)                1010      \n",
            "=================================================================\n",
            "Total params: 372,810\n",
            "Trainable params: 372,810\n",
            "Non-trainable params: 0\n",
            "_________________________________________________________________\n"
          ],
          "name": "stdout"
        }
      ]
    },
    {
      "cell_type": "code",
      "metadata": {
        "colab": {
          "base_uri": "https://localhost:8080/"
        },
        "id": "T6Zn4SOsO3DE",
        "outputId": "31ba2316-b83d-48b6-d315-9e247717760f"
      },
      "source": [
        "model1_relu.compile(optimizer='adam', loss='categorical_crossentropy', metrics=['accuracy'])\n",
        "\n",
        "history = model1_relu.fit(X_train, Y_train, batch_size=batch_size, epochs=nb_epoch, verbose=1, validation_data=(X_test, Y_test))"
      ],
      "execution_count": 18,
      "outputs": [
        {
          "output_type": "stream",
          "text": [
            "Epoch 1/20\n",
            "469/469 [==============================] - 5s 9ms/step - loss: 0.2457 - accuracy: 0.9300 - val_loss: 0.1191 - val_accuracy: 0.9641\n",
            "Epoch 2/20\n",
            "469/469 [==============================] - 4s 9ms/step - loss: 0.0928 - accuracy: 0.9722 - val_loss: 0.0884 - val_accuracy: 0.9710\n",
            "Epoch 3/20\n",
            "469/469 [==============================] - 4s 9ms/step - loss: 0.0586 - accuracy: 0.9820 - val_loss: 0.0790 - val_accuracy: 0.9762\n",
            "Epoch 4/20\n",
            "469/469 [==============================] - 4s 9ms/step - loss: 0.0411 - accuracy: 0.9870 - val_loss: 0.0800 - val_accuracy: 0.9756\n",
            "Epoch 5/20\n",
            "469/469 [==============================] - 4s 9ms/step - loss: 0.0319 - accuracy: 0.9899 - val_loss: 0.0694 - val_accuracy: 0.9803\n",
            "Epoch 6/20\n",
            "469/469 [==============================] - 4s 8ms/step - loss: 0.0223 - accuracy: 0.9929 - val_loss: 0.0705 - val_accuracy: 0.9802\n",
            "Epoch 7/20\n",
            "469/469 [==============================] - 4s 8ms/step - loss: 0.0195 - accuracy: 0.9938 - val_loss: 0.0730 - val_accuracy: 0.9793\n",
            "Epoch 8/20\n",
            "469/469 [==============================] - 4s 8ms/step - loss: 0.0140 - accuracy: 0.9955 - val_loss: 0.0782 - val_accuracy: 0.9786\n",
            "Epoch 9/20\n",
            "469/469 [==============================] - 4s 8ms/step - loss: 0.0138 - accuracy: 0.9955 - val_loss: 0.0963 - val_accuracy: 0.9772\n",
            "Epoch 10/20\n",
            "469/469 [==============================] - 4s 9ms/step - loss: 0.0120 - accuracy: 0.9960 - val_loss: 0.0760 - val_accuracy: 0.9790\n",
            "Epoch 11/20\n",
            "469/469 [==============================] - 4s 9ms/step - loss: 0.0108 - accuracy: 0.9967 - val_loss: 0.0870 - val_accuracy: 0.9791\n",
            "Epoch 12/20\n",
            "469/469 [==============================] - 4s 9ms/step - loss: 0.0098 - accuracy: 0.9967 - val_loss: 0.0822 - val_accuracy: 0.9801\n",
            "Epoch 13/20\n",
            "469/469 [==============================] - 4s 9ms/step - loss: 0.0093 - accuracy: 0.9969 - val_loss: 0.0991 - val_accuracy: 0.9788\n",
            "Epoch 14/20\n",
            "469/469 [==============================] - 4s 9ms/step - loss: 0.0090 - accuracy: 0.9968 - val_loss: 0.1048 - val_accuracy: 0.9792\n",
            "Epoch 15/20\n",
            "469/469 [==============================] - 4s 9ms/step - loss: 0.0115 - accuracy: 0.9957 - val_loss: 0.0894 - val_accuracy: 0.9804\n",
            "Epoch 16/20\n",
            "469/469 [==============================] - 4s 9ms/step - loss: 0.0060 - accuracy: 0.9979 - val_loss: 0.0987 - val_accuracy: 0.9800\n",
            "Epoch 17/20\n",
            "469/469 [==============================] - 4s 9ms/step - loss: 0.0046 - accuracy: 0.9985 - val_loss: 0.0932 - val_accuracy: 0.9811\n",
            "Epoch 18/20\n",
            "469/469 [==============================] - 4s 9ms/step - loss: 0.0103 - accuracy: 0.9967 - val_loss: 0.0944 - val_accuracy: 0.9812\n",
            "Epoch 19/20\n",
            "469/469 [==============================] - 4s 9ms/step - loss: 0.0094 - accuracy: 0.9967 - val_loss: 0.1106 - val_accuracy: 0.9792\n",
            "Epoch 20/20\n",
            "469/469 [==============================] - 4s 9ms/step - loss: 0.0045 - accuracy: 0.9987 - val_loss: 0.0953 - val_accuracy: 0.9829\n"
          ],
          "name": "stdout"
        }
      ]
    },
    {
      "cell_type": "code",
      "metadata": {
        "colab": {
          "base_uri": "https://localhost:8080/",
          "height": 313
        },
        "id": "QlFdtTITO3DF",
        "outputId": "ec850713-8f12-4a61-c0f1-c98d93e15b02"
      },
      "source": [
        "score = model1_relu.evaluate(X_test, Y_test, verbose=0) \n",
        "print('Test score:', score[0]) \n",
        "print('Test accuracy:', score[1])\n",
        "\n",
        "fig,ax = plt.subplots(1,1)\n",
        "ax.set_xlabel('epoch') ; ax.set_ylabel('Categorical Crossentropy Loss')\n",
        "\n",
        "\n",
        "x = list(range(1,nb_epoch+1))\n",
        "\n",
        "\n",
        "\n",
        "vy = history.history['val_loss']\n",
        "ty = history.history['loss']\n",
        "plt_dynamic(x, vy, ty, ax)"
      ],
      "execution_count": 19,
      "outputs": [
        {
          "output_type": "stream",
          "text": [
            "Test score: 0.09534730017185211\n",
            "Test accuracy: 0.9829000234603882\n"
          ],
          "name": "stdout"
        },
        {
          "output_type": "display_data",
          "data": {
            "image/png": "[encoded data removed]",
            "text/plain": [
              "<Figure size 432x288 with 1 Axes>"
            ]
          },
          "metadata": {
            "needs_background": "light"
          }
        }
      ]
    },
    {
      "cell_type": "code",
      "metadata": {
        "colab": {
          "base_uri": "https://localhost:8080/"
        },
        "id": "qCib8v9nO3DF",
        "outputId": "ce87ea07-e420-4248-ca0c-f7b23a67f9b2"
      },
      "source": [
        "for layers in model1_relu.layers:\n",
        "    print(\"layer name\",layers.name,\",input shape\",layers.input_shape,\",output shape\",layers.output_shape)\n",
        "w_after = model1_relu.get_weights()\n",
        "print(len(w_after))\n",
        "    \n",
        "for i in range(len(w_after)):\n",
        "    print(w_after[i].shape)"
      ],
      "execution_count": 21,
      "outputs": [
        {
          "output_type": "stream",
          "text": [
            "layer name module_wrapper_7 ,input shape (None, 784) ,output shape (None, 420)\n",
            "layer name module_wrapper_8 ,input shape (None, 420) ,output shape (None, 100)\n",
            "layer name module_wrapper_9 ,input shape (None, 100) ,output shape (None, 10)\n",
            "6\n",
            "(784, 420)\n",
            "(420,)\n",
            "(420, 100)\n",
            "(100,)\n",
            "(100, 10)\n",
            "(10,)\n"
          ],
          "name": "stdout"
        }
      ]
    },
    {
      "cell_type": "code",
      "metadata": {
        "colab": {
          "base_uri": "https://localhost:8080/",
          "height": 285
        },
        "id": "Q7fuUf_ZO3DF",
        "outputId": "59ec1cac-b8a1-4d2d-8274-f455689d91c2"
      },
      "source": [
        "w_after = model1_relu.get_weights()\n",
        "\n",
        "h1_w = w_after[0].flatten().reshape(-1,1)\n",
        "h2_w = w_after[2].flatten().reshape(-1,1)\n",
        "out_w = w_after[4].flatten().reshape(-1,1)\n",
        "\n",
        "\n",
        "fig = plt.figure()\n",
        "plt.title(\"Weight matrices after model trained\")\n",
        "plt.subplot(1, 3, 1)\n",
        "plt.title(\"Trained model Weights\")\n",
        "ax = sns.violinplot(y=h1_w,color='b')\n",
        "plt.xlabel('Hidden Layer 1')\n",
        "\n",
        "plt.subplot(1, 3, 2)\n",
        "plt.title(\"Trained model Weights\")\n",
        "ax = sns.violinplot(y=h2_w, color='r')\n",
        "plt.xlabel('Hidden Layer 2 ')\n",
        "\n",
        "plt.subplot(1, 3, 3)\n",
        "plt.title(\"Trained model Weights\")\n",
        "ax = sns.violinplot(y=out_w,color='y')\n",
        "plt.xlabel('Output Layer ')\n",
        "plt.show()"
      ],
      "execution_count": 22,
      "outputs": [
        {
          "output_type": "display_data",
          "data": {
            "image/png": "[encoded data removed]",
            "text/plain": [
              "<Figure size 432x288 with 3 Axes>"
            ]
          },
          "metadata": {
            "needs_background": "light"
          }
        }
      ]
    },
    {
      "cell_type": "markdown",
      "metadata": {
        "id": "sKuAcujLO3DF"
      },
      "source": [
        "### batch normalization"
      ]
    },
    {
      "cell_type": "code",
      "metadata": {
        "colab": {
          "base_uri": "https://localhost:8080/"
        },
        "id": "fRzrv9JsO3DF",
        "outputId": "848401c8-d4e2-45a0-8d8e-3654a4bf144d"
      },
      "source": [
        "\n",
        "\n",
        "model1_batch = Sequential()\n",
        "\n",
        "model1_batch.add(Dense(420, activation='relu', input_shape=(input_dim,), kernel_initializer=RandomNormal(mean=0.069, stddev=0.039, seed=None)))\n",
        "model1_batch.add(BatchNormalization())\n",
        "\n",
        "model1_batch.add(Dense(100, activation='relu', kernel_initializer=RandomNormal(mean=0.0, stddev=0.141, seed=None)) )\n",
        "model1_batch.add(BatchNormalization())\n",
        "\n",
        "model1_batch.add(Dense(output_dim, activation='softmax'))\n",
        "\n",
        "model.build()\n",
        "model1_batch.summary()"
      ],
      "execution_count": 27,
      "outputs": [
        {
          "output_type": "stream",
          "text": [
            "Model: \"sequential_4\"\n",
            "_________________________________________________________________\n",
            "Layer (type)                 Output Shape              Param #   \n",
            "=================================================================\n",
            "dense (Dense)                (None, 420)               329700    \n",
            "_________________________________________________________________\n",
            "module_wrapper_10 (ModuleWra (None, 420)               1680      \n",
            "_________________________________________________________________\n",
            "dense_1 (Dense)              (None, 100)               42100     \n",
            "_________________________________________________________________\n",
            "module_wrapper_11 (ModuleWra (None, 100)               400       \n",
            "_________________________________________________________________\n",
            "dense_2 (Dense)              (None, 10)                1010      \n",
            "=================================================================\n",
            "Total params: 374,890\n",
            "Trainable params: 373,850\n",
            "Non-trainable params: 1,040\n",
            "_________________________________________________________________\n"
          ],
          "name": "stdout"
        }
      ]
    },
    {
      "cell_type": "code",
      "metadata": {
        "colab": {
          "base_uri": "https://localhost:8080/"
        },
        "id": "cVGJ1o4tO3DG",
        "outputId": "f07ed45b-b2b2-4d6b-ee3a-7533d523d54e"
      },
      "source": [
        "model1_batch.compile(optimizer='adam', loss='categorical_crossentropy', metrics=['accuracy'])\n",
        "\n",
        "history = model1_batch.fit(X_train, Y_train, batch_size=batch_size, epochs=nb_epoch, verbose=1, validation_data=(X_test, Y_test))"
      ],
      "execution_count": 29,
      "outputs": [
        {
          "output_type": "stream",
          "text": [
            "Epoch 1/20\n",
            "469/469 [==============================] - 6s 11ms/step - loss: 0.3112 - accuracy: 0.9096 - val_loss: 0.1775 - val_accuracy: 0.9477\n",
            "Epoch 2/20\n",
            "469/469 [==============================] - 5s 10ms/step - loss: 0.1577 - accuracy: 0.9543 - val_loss: 0.1359 - val_accuracy: 0.9596\n",
            "Epoch 3/20\n",
            "469/469 [==============================] - 5s 10ms/step - loss: 0.1183 - accuracy: 0.9650 - val_loss: 0.1070 - val_accuracy: 0.9687\n",
            "Epoch 4/20\n",
            "469/469 [==============================] - 5s 11ms/step - loss: 0.0967 - accuracy: 0.9714 - val_loss: 0.1107 - val_accuracy: 0.9670\n",
            "Epoch 5/20\n",
            "469/469 [==============================] - 5s 11ms/step - loss: 0.0821 - accuracy: 0.9747 - val_loss: 0.0890 - val_accuracy: 0.9724\n",
            "Epoch 6/20\n",
            "469/469 [==============================] - 5s 11ms/step - loss: 0.0691 - accuracy: 0.9788 - val_loss: 0.0905 - val_accuracy: 0.9737\n",
            "Epoch 7/20\n",
            "469/469 [==============================] - 5s 11ms/step - loss: 0.0611 - accuracy: 0.9812 - val_loss: 0.0833 - val_accuracy: 0.9747\n",
            "Epoch 8/20\n",
            "469/469 [==============================] - 5s 11ms/step - loss: 0.0523 - accuracy: 0.9840 - val_loss: 0.0821 - val_accuracy: 0.9757\n",
            "Epoch 9/20\n",
            "469/469 [==============================] - 5s 11ms/step - loss: 0.0463 - accuracy: 0.9854 - val_loss: 0.0794 - val_accuracy: 0.9765\n",
            "Epoch 10/20\n",
            "469/469 [==============================] - 5s 11ms/step - loss: 0.0424 - accuracy: 0.9867 - val_loss: 0.0830 - val_accuracy: 0.9759\n",
            "Epoch 11/20\n",
            "469/469 [==============================] - 6s 12ms/step - loss: 0.0358 - accuracy: 0.9885 - val_loss: 0.0754 - val_accuracy: 0.9777\n",
            "Epoch 12/20\n",
            "469/469 [==============================] - 5s 11ms/step - loss: 0.0323 - accuracy: 0.9895 - val_loss: 0.0779 - val_accuracy: 0.9791\n",
            "Epoch 13/20\n",
            "469/469 [==============================] - 5s 11ms/step - loss: 0.0278 - accuracy: 0.9913 - val_loss: 0.0837 - val_accuracy: 0.9768\n",
            "Epoch 14/20\n",
            "469/469 [==============================] - 5s 11ms/step - loss: 0.0264 - accuracy: 0.9914 - val_loss: 0.0733 - val_accuracy: 0.9781\n",
            "Epoch 15/20\n",
            "469/469 [==============================] - 5s 10ms/step - loss: 0.0237 - accuracy: 0.9926 - val_loss: 0.0751 - val_accuracy: 0.9781\n",
            "Epoch 16/20\n",
            "469/469 [==============================] - 5s 11ms/step - loss: 0.0208 - accuracy: 0.9935 - val_loss: 0.0916 - val_accuracy: 0.9760\n",
            "Epoch 17/20\n",
            "469/469 [==============================] - 5s 12ms/step - loss: 0.0192 - accuracy: 0.9938 - val_loss: 0.0845 - val_accuracy: 0.9782\n",
            "Epoch 18/20\n",
            "469/469 [==============================] - 7s 14ms/step - loss: 0.0162 - accuracy: 0.9951 - val_loss: 0.0870 - val_accuracy: 0.9767\n",
            "Epoch 19/20\n",
            "469/469 [==============================] - 5s 11ms/step - loss: 0.0167 - accuracy: 0.9948 - val_loss: 0.0921 - val_accuracy: 0.9762\n",
            "Epoch 20/20\n",
            "469/469 [==============================] - 5s 11ms/step - loss: 0.0156 - accuracy: 0.9949 - val_loss: 0.0835 - val_accuracy: 0.9791\n"
          ],
          "name": "stdout"
        }
      ]
    },
    {
      "cell_type": "code",
      "metadata": {
        "colab": {
          "base_uri": "https://localhost:8080/",
          "height": 313
        },
        "id": "g7gHlB4EO3DG",
        "outputId": "81fd14d8-58e9-435c-c3a0-9ee0f1420b50"
      },
      "source": [
        "score = model1_batch.evaluate(X_test, Y_test, verbose=0) \n",
        "print('Test score:', score[0]) \n",
        "print('Test accuracy:', score[1])\n",
        "\n",
        "fig,ax = plt.subplots(1,1)\n",
        "ax.set_xlabel('epoch') ; ax.set_ylabel('Categorical Crossentropy Loss')\n",
        "\n",
        "# list of epoch numbers\n",
        "x = list(range(1,nb_epoch+1))\n",
        "\n",
        "# print(history.history.keys())\n",
        "# dict_keys(['val_loss', 'val_acc', 'loss', 'acc'])\n",
        "# history = model_drop.fit(X_train, Y_train, batch_size=batch_size, epochs=nb_epoch, verbose=1, validation_data=(X_test, Y_test))\n",
        "\n",
        "# we will get val_loss and val_acc only when you pass the paramter validation_data\n",
        "# val_loss : validation loss\n",
        "# val_acc : validation accuracy\n",
        "\n",
        "# loss : training loss\n",
        "# acc : train accuracy\n",
        "# for each key in histrory.histrory we will have a list of length equal to number of epochs\n",
        "\n",
        "vy = history.history['val_loss']\n",
        "ty = history.history['loss']\n",
        "plt_dynamic(x, vy, ty, ax)"
      ],
      "execution_count": 30,
      "outputs": [
        {
          "output_type": "stream",
          "text": [
            "Test score: 0.08354396373033524\n",
            "Test accuracy: 0.9790999889373779\n"
          ],
          "name": "stdout"
        },
        {
          "output_type": "display_data",
          "data": {
            "image/png": "[encoded data removed]",
            "text/plain": [
              "<Figure size 432x288 with 1 Axes>"
            ]
          },
          "metadata": {
            "needs_background": "light"
          }
        }
      ]
    },
    {
      "cell_type": "code",
      "metadata": {
        "colab": {
          "base_uri": "https://localhost:8080/"
        },
        "id": "3_8kKDZ-O3DG",
        "outputId": "4f7ef76c-578a-4a52-8f8b-ef8e217e7874"
      },
      "source": [
        "for layers in model1_batch.layers:\n",
        "    print(\"layer name\",layers.name,\",input shape\",layers.input_shape,\",output shape\",layers.output_shape)\n",
        "w_after = model1_batch.get_weights()\n",
        "print(len(w_after))\n",
        "    \n",
        "for i in range(len(w_after)):\n",
        "    print(w_after[i].shape)"
      ],
      "execution_count": 31,
      "outputs": [
        {
          "output_type": "stream",
          "text": [
            "layer name dense ,input shape (None, 784) ,output shape (None, 420)\n",
            "layer name module_wrapper_10 ,input shape (None, 420) ,output shape (None, 420)\n",
            "layer name dense_1 ,input shape (None, 420) ,output shape (None, 100)\n",
            "layer name module_wrapper_11 ,input shape (None, 100) ,output shape (None, 100)\n",
            "layer name dense_2 ,input shape (None, 100) ,output shape (None, 10)\n",
            "14\n",
            "(784, 420)\n",
            "(420,)\n",
            "(420,)\n",
            "(420,)\n",
            "(420,)\n",
            "(420,)\n",
            "(420, 100)\n",
            "(100,)\n",
            "(100,)\n",
            "(100,)\n",
            "(100,)\n",
            "(100,)\n",
            "(100, 10)\n",
            "(10,)\n"
          ],
          "name": "stdout"
        }
      ]
    },
    {
      "cell_type": "code",
      "metadata": {
        "colab": {
          "base_uri": "https://localhost:8080/",
          "height": 285
        },
        "id": "bwg-1_mlO3DG",
        "outputId": "d97335bf-3a01-406a-9eaa-f498b2c3e488"
      },
      "source": [
        "w_after = model1_batch.get_weights()\n",
        "\n",
        "h1_w = w_after[0].flatten().reshape(-1,1)\n",
        "h2_w = w_after[6].flatten().reshape(-1,1)\n",
        "out_w = w_after[12].flatten().reshape(-1,1)\n",
        "\n",
        "\n",
        "fig = plt.figure()\n",
        "plt.title(\"Weight matrices after model trained\")\n",
        "plt.subplot(1, 3, 1)\n",
        "plt.title(\"Trained model Weights\")\n",
        "ax = sns.violinplot(y=h1_w,color='b')\n",
        "plt.xlabel('Hidden Layer 1')\n",
        "\n",
        "plt.subplot(1, 3, 2)\n",
        "plt.title(\"Trained model Weights\")\n",
        "ax = sns.violinplot(y=h2_w, color='r')\n",
        "plt.xlabel('Hidden Layer 2 ')\n",
        "\n",
        "plt.subplot(1, 3, 3)\n",
        "plt.title(\"Trained model Weights\")\n",
        "ax = sns.violinplot(y=out_w,color='y')\n",
        "plt.xlabel('Output Layer ')\n",
        "plt.show()"
      ],
      "execution_count": 32,
      "outputs": [
        {
          "output_type": "display_data",
          "data": {
            "image/png": "[encoded data removed]",
            "text/plain": [
              "<Figure size 432x288 with 3 Axes>"
            ]
          },
          "metadata": {
            "needs_background": "light"
          }
        }
      ]
    },
    {
      "cell_type": "markdown",
      "metadata": {
        "id": "2rJltaISO3DG"
      },
      "source": [
        "### dropout "
      ]
    },
    {
      "cell_type": "code",
      "metadata": {
        "id": "_1wqYgxlO3DG"
      },
      "source": [
        "\n",
        "# Using relu\n",
        "#If we sample weights from a normal distribution N(0,σ) we satisfy this condition with σ=√(2/(ni).\n",
        "#h1 => σ=√(2/(fan_in) = 0.062 => N(0,σ) = N(0,0.062)\n",
        "#h2 => σ=√(2/(fan_in) = 0.125 => N(0,σ) = N(0,0.125)\n",
        "#out => σ=√(2/(fan_in+1) = 0.120 => N(0,σ) = N(0,0.120)"
      ],
      "execution_count": null,
      "outputs": []
    },
    {
      "cell_type": "code",
      "metadata": {
        "colab": {
          "base_uri": "https://localhost:8080/"
        },
        "id": "DJ2F1oE8O3DH",
        "outputId": "053c202e-7f12-4573-95c5-0953a37fba29"
      },
      "source": [
        "from tensorflow.keras.layers import Dropout\n",
        "\n",
        "model1_drop = Sequential()\n",
        "\n",
        "model1_drop.add(Dense(420, activation='relu', input_shape=(input_dim,), kernel_initializer=RandomNormal(mean=0.0, stddev=0.069, seed=None)))\n",
        "model1_drop.add(BatchNormalization())\n",
        "model1_drop.add(Dropout(0.5))\n",
        "\n",
        "model1_drop.add(Dense(100, activation='relu', kernel_initializer=RandomNormal(mean=0.0, stddev=0.141, seed=None)) )\n",
        "model1_drop.add(BatchNormalization())\n",
        "model1_drop.add(Dropout(0.5))\n",
        "\n",
        "model1_drop.add(Dense(output_dim, activation='softmax'))\n",
        "\n",
        "\n",
        "model1_drop.summary()"
      ],
      "execution_count": 33,
      "outputs": [
        {
          "output_type": "stream",
          "text": [
            "Model: \"sequential_6\"\n",
            "_________________________________________________________________\n",
            "Layer (type)                 Output Shape              Param #   \n",
            "=================================================================\n",
            "dense_6 (Dense)              (None, 420)               329700    \n",
            "_________________________________________________________________\n",
            "module_wrapper_12 (ModuleWra (None, 420)               1680      \n",
            "_________________________________________________________________\n",
            "dropout (Dropout)            (None, 420)               0         \n",
            "_________________________________________________________________\n",
            "dense_7 (Dense)              (None, 100)               42100     \n",
            "_________________________________________________________________\n",
            "module_wrapper_13 (ModuleWra (None, 100)               400       \n",
            "_________________________________________________________________\n",
            "dropout_1 (Dropout)          (None, 100)               0         \n",
            "_________________________________________________________________\n",
            "dense_8 (Dense)              (None, 10)                1010      \n",
            "=================================================================\n",
            "Total params: 374,890\n",
            "Trainable params: 373,850\n",
            "Non-trainable params: 1,040\n",
            "_________________________________________________________________\n"
          ],
          "name": "stdout"
        }
      ]
    },
    {
      "cell_type": "code",
      "metadata": {
        "colab": {
          "base_uri": "https://localhost:8080/"
        },
        "id": "mK4J1M6KO3DH",
        "outputId": "10e1c427-b9b7-4649-eed7-25716c895e97"
      },
      "source": [
        "model1_drop.compile(optimizer='adam', loss='categorical_crossentropy', metrics=['accuracy'])\n",
        "\n",
        "history = model1_drop.fit(X_train, Y_train, batch_size=batch_size, epochs=nb_epoch, verbose=1, validation_data=(X_test, Y_test))"
      ],
      "execution_count": 34,
      "outputs": [
        {
          "output_type": "stream",
          "text": [
            "Epoch 1/20\n",
            "469/469 [==============================] - 6s 12ms/step - loss: 0.5487 - accuracy: 0.8320 - val_loss: 0.1711 - val_accuracy: 0.9469\n",
            "Epoch 2/20\n",
            "469/469 [==============================] - 5s 11ms/step - loss: 0.2547 - accuracy: 0.9239 - val_loss: 0.1253 - val_accuracy: 0.9602\n",
            "Epoch 3/20\n",
            "469/469 [==============================] - 5s 12ms/step - loss: 0.1995 - accuracy: 0.9407 - val_loss: 0.1032 - val_accuracy: 0.9686\n",
            "Epoch 4/20\n",
            "469/469 [==============================] - 5s 11ms/step - loss: 0.1692 - accuracy: 0.9500 - val_loss: 0.0908 - val_accuracy: 0.9722\n",
            "Epoch 5/20\n",
            "469/469 [==============================] - 5s 12ms/step - loss: 0.1493 - accuracy: 0.9552 - val_loss: 0.0830 - val_accuracy: 0.9740\n",
            "Epoch 6/20\n",
            "469/469 [==============================] - 6s 12ms/step - loss: 0.1304 - accuracy: 0.9610 - val_loss: 0.0800 - val_accuracy: 0.9738\n",
            "Epoch 7/20\n",
            "469/469 [==============================] - 6s 12ms/step - loss: 0.1179 - accuracy: 0.9642 - val_loss: 0.0740 - val_accuracy: 0.9759\n",
            "Epoch 8/20\n",
            "469/469 [==============================] - 5s 11ms/step - loss: 0.1106 - accuracy: 0.9657 - val_loss: 0.0709 - val_accuracy: 0.9776\n",
            "Epoch 9/20\n",
            "469/469 [==============================] - 5s 11ms/step - loss: 0.1010 - accuracy: 0.9687 - val_loss: 0.0721 - val_accuracy: 0.9789\n",
            "Epoch 10/20\n",
            "469/469 [==============================] - 5s 11ms/step - loss: 0.0947 - accuracy: 0.9720 - val_loss: 0.0663 - val_accuracy: 0.9801\n",
            "Epoch 11/20\n",
            "469/469 [==============================] - 5s 11ms/step - loss: 0.0916 - accuracy: 0.9718 - val_loss: 0.0669 - val_accuracy: 0.9796\n",
            "Epoch 12/20\n",
            "469/469 [==============================] - 5s 11ms/step - loss: 0.0848 - accuracy: 0.9735 - val_loss: 0.0625 - val_accuracy: 0.9805\n",
            "Epoch 13/20\n",
            "469/469 [==============================] - 5s 10ms/step - loss: 0.0825 - accuracy: 0.9746 - val_loss: 0.0616 - val_accuracy: 0.9813\n",
            "Epoch 14/20\n",
            "469/469 [==============================] - 5s 11ms/step - loss: 0.0789 - accuracy: 0.9746 - val_loss: 0.0657 - val_accuracy: 0.9798\n",
            "Epoch 15/20\n",
            "469/469 [==============================] - 5s 11ms/step - loss: 0.0735 - accuracy: 0.9769 - val_loss: 0.0580 - val_accuracy: 0.9820\n",
            "Epoch 16/20\n",
            "469/469 [==============================] - 5s 11ms/step - loss: 0.0714 - accuracy: 0.9780 - val_loss: 0.0573 - val_accuracy: 0.9819\n",
            "Epoch 17/20\n",
            "469/469 [==============================] - 5s 11ms/step - loss: 0.0679 - accuracy: 0.9784 - val_loss: 0.0631 - val_accuracy: 0.9804\n",
            "Epoch 18/20\n",
            "469/469 [==============================] - 5s 11ms/step - loss: 0.0665 - accuracy: 0.9786 - val_loss: 0.0587 - val_accuracy: 0.9829\n",
            "Epoch 19/20\n",
            "469/469 [==============================] - 5s 11ms/step - loss: 0.0643 - accuracy: 0.9798 - val_loss: 0.0579 - val_accuracy: 0.9822\n",
            "Epoch 20/20\n",
            "469/469 [==============================] - 5s 11ms/step - loss: 0.0628 - accuracy: 0.9805 - val_loss: 0.0604 - val_accuracy: 0.9819\n"
          ],
          "name": "stdout"
        }
      ]
    },
    {
      "cell_type": "code",
      "metadata": {
        "colab": {
          "base_uri": "https://localhost:8080/",
          "height": 313
        },
        "id": "mCpJfdpCO3DH",
        "outputId": "f95e09e9-d730-46e1-e41c-4a35b499bf22"
      },
      "source": [
        "score = model1_drop.evaluate(X_test, Y_test, verbose=0) \n",
        "print('Test score:', score[0]) \n",
        "print('Test accuracy:', score[1])\n",
        "\n",
        "fig,ax = plt.subplots(1,1)\n",
        "ax.set_xlabel('epoch') ; ax.set_ylabel('Categorical Crossentropy Loss')\n",
        "\n",
        "# list of epoch numbers\n",
        "x = list(range(1,nb_epoch+1))\n",
        "\n",
        "# print(history.history.keys())\n",
        "# dict_keys(['val_loss', 'val_acc', 'loss', 'acc'])\n",
        "# history = model_drop.fit(X_train, Y_train, batch_size=batch_size, epochs=nb_epoch, verbose=1, validation_data=(X_test, Y_test))\n",
        "\n",
        "# we will get val_loss and val_acc only when you pass the paramter validation_data\n",
        "# val_loss : validation loss\n",
        "# val_acc : validation accuracy\n",
        "\n",
        "# loss : training loss\n",
        "# acc : train accuracy\n",
        "# for each key in histrory.histrory we will have a list of length equal to number of epochs\n",
        "\n",
        "vy = history.history['val_loss']\n",
        "ty = history.history['loss']\n",
        "plt_dynamic(x, vy, ty, ax)"
      ],
      "execution_count": 35,
      "outputs": [
        {
          "output_type": "stream",
          "text": [
            "Test score: 0.06042179465293884\n",
            "Test accuracy: 0.9818999767303467\n"
          ],
          "name": "stdout"
        },
        {
          "output_type": "display_data",
          "data": {
            "image/png": "[encoded data removed]",
            "text/plain": [
              "<Figure size 432x288 with 1 Axes>"
            ]
          },
          "metadata": {
            "needs_background": "light"
          }
        }
      ]
    },
    {
      "cell_type": "code",
      "metadata": {
        "colab": {
          "base_uri": "https://localhost:8080/"
        },
        "id": "jc7FZ7H4O3DI",
        "outputId": "f0599876-b5a8-4870-d98c-ab4c024d315d"
      },
      "source": [
        "for layers in model1_drop.layers:\n",
        "    print(\"layer name\",layers.name,\",input shape\",layers.input_shape,\",output shape\",layers.output_shape)\n",
        "w_after = model1_drop.get_weights()\n",
        "print(len(w_after))\n",
        "    \n",
        "for i in range(len(w_after)):\n",
        "    print(w_after[i].shape)"
      ],
      "execution_count": 36,
      "outputs": [
        {
          "output_type": "stream",
          "text": [
            "layer name dense_6 ,input shape (None, 784) ,output shape (None, 420)\n",
            "layer name module_wrapper_12 ,input shape (None, 420) ,output shape (None, 420)\n",
            "layer name dropout ,input shape (None, 420) ,output shape (None, 420)\n",
            "layer name dense_7 ,input shape (None, 420) ,output shape (None, 100)\n",
            "layer name module_wrapper_13 ,input shape (None, 100) ,output shape (None, 100)\n",
            "layer name dropout_1 ,input shape (None, 100) ,output shape (None, 100)\n",
            "layer name dense_8 ,input shape (None, 100) ,output shape (None, 10)\n",
            "14\n",
            "(784, 420)\n",
            "(420,)\n",
            "(420,)\n",
            "(420,)\n",
            "(420,)\n",
            "(420,)\n",
            "(420, 100)\n",
            "(100,)\n",
            "(100,)\n",
            "(100,)\n",
            "(100,)\n",
            "(100,)\n",
            "(100, 10)\n",
            "(10,)\n"
          ],
          "name": "stdout"
        }
      ]
    },
    {
      "cell_type": "code",
      "metadata": {
        "colab": {
          "base_uri": "https://localhost:8080/",
          "height": 285
        },
        "id": "WaxYFWzRO3DI",
        "outputId": "effed3a2-178b-4c37-990a-b709bb16a01c"
      },
      "source": [
        "w_after = model1_drop.get_weights()\n",
        "\n",
        "h1_w = w_after[0].flatten().reshape(-1,1)\n",
        "h2_w = w_after[6].flatten().reshape(-1,1)\n",
        "out_w = w_after[12].flatten().reshape(-1,1)\n",
        "\n",
        "\n",
        "fig = plt.figure()\n",
        "plt.title(\"Weight matrices after model trained\")\n",
        "plt.subplot(1, 3, 1)\n",
        "plt.title(\"Trained model Weights\")\n",
        "ax = sns.violinplot(y=h1_w,color='b')\n",
        "plt.xlabel('Hidden Layer 1')\n",
        "\n",
        "plt.subplot(1, 3, 2)\n",
        "plt.title(\"Trained model Weights\")\n",
        "ax = sns.violinplot(y=h2_w, color='r')\n",
        "plt.xlabel('Hidden Layer 2 ')\n",
        "\n",
        "plt.subplot(1, 3, 3)\n",
        "plt.title(\"Trained model Weights\")\n",
        "ax = sns.violinplot(y=out_w,color='y')\n",
        "plt.xlabel('Output Layer ')\n",
        "plt.show()"
      ],
      "execution_count": 37,
      "outputs": [
        {
          "output_type": "display_data",
          "data": {
            "image/png": "[encoded data removed]",
            "text/plain": [
              "<Figure size 432x288 with 3 Axes>"
            ]
          },
          "metadata": {
            "needs_background": "light"
          }
        }
      ]
    },
    {
      "cell_type": "markdown",
      "metadata": {
        "id": "7bC_XiilO3DI"
      },
      "source": [
        "## 2.Three hidden layer Architecture"
      ]
    },
    {
      "cell_type": "markdown",
      "metadata": {
        "id": "Sxt9rI98O3DI"
      },
      "source": [
        "## 2.1 Three hidden layer with Relu + Adam"
      ]
    },
    {
      "cell_type": "code",
      "metadata": {
        "id": "_DQNx_AgO3DI"
      },
      "source": [
        "batch_size = 150\n",
        "nb_epoch = 30"
      ],
      "execution_count": 38,
      "outputs": []
    },
    {
      "cell_type": "code",
      "metadata": {
        "colab": {
          "base_uri": "https://localhost:8080/"
        },
        "id": "qHi2P9ULO3DJ",
        "outputId": "f16c9150-b891-4444-c9d2-7b61b003b389"
      },
      "source": [
        "model2_relu = Sequential()\n",
        "model2_relu.add(Dense(520, activation='relu', input_shape=(input_dim,)))\n",
        "model2_relu.add(Dense(320, activation='relu'))\n",
        "model2_relu.add(Dense(120, activation='relu'))\n",
        "model2_relu.add(Dense(output_dim, activation='softmax'))\n",
        "model2_relu.summary()"
      ],
      "execution_count": 39,
      "outputs": [
        {
          "output_type": "stream",
          "text": [
            "Model: \"sequential_7\"\n",
            "_________________________________________________________________\n",
            "Layer (type)                 Output Shape              Param #   \n",
            "=================================================================\n",
            "dense_9 (Dense)              (None, 520)               408200    \n",
            "_________________________________________________________________\n",
            "dense_10 (Dense)             (None, 320)               166720    \n",
            "_________________________________________________________________\n",
            "dense_11 (Dense)             (None, 120)               38520     \n",
            "_________________________________________________________________\n",
            "dense_12 (Dense)             (None, 10)                1210      \n",
            "=================================================================\n",
            "Total params: 614,650\n",
            "Trainable params: 614,650\n",
            "Non-trainable params: 0\n",
            "_________________________________________________________________\n"
          ],
          "name": "stdout"
        }
      ]
    },
    {
      "cell_type": "code",
      "metadata": {
        "colab": {
          "base_uri": "https://localhost:8080/"
        },
        "id": "EWlzgKUBO3DJ",
        "outputId": "7a0b802e-0a12-4c81-dc75-90aedae38ff5"
      },
      "source": [
        "model2_relu.compile(optimizer='adam', loss='categorical_crossentropy', metrics=['accuracy'])\n",
        "\n",
        "history = model2_relu.fit(X_train, Y_train, batch_size=batch_size, epochs=nb_epoch, verbose=1, validation_data=(X_test, Y_test))"
      ],
      "execution_count": 40,
      "outputs": [
        {
          "output_type": "stream",
          "text": [
            "Epoch 1/30\n",
            "400/400 [==============================] - 7s 16ms/step - loss: 0.2379 - accuracy: 0.9280 - val_loss: 0.1198 - val_accuracy: 0.9630\n",
            "Epoch 2/30\n",
            "400/400 [==============================] - 6s 15ms/step - loss: 0.0861 - accuracy: 0.9727 - val_loss: 0.0812 - val_accuracy: 0.9731\n",
            "Epoch 3/30\n",
            "400/400 [==============================] - 6s 15ms/step - loss: 0.0577 - accuracy: 0.9821 - val_loss: 0.0752 - val_accuracy: 0.9773\n",
            "Epoch 4/30\n",
            "400/400 [==============================] - 6s 16ms/step - loss: 0.0407 - accuracy: 0.9867 - val_loss: 0.0783 - val_accuracy: 0.9769\n",
            "Epoch 5/30\n",
            "400/400 [==============================] - 6s 15ms/step - loss: 0.0296 - accuracy: 0.9907 - val_loss: 0.0691 - val_accuracy: 0.9797\n",
            "Epoch 6/30\n",
            "400/400 [==============================] - 6s 15ms/step - loss: 0.0261 - accuracy: 0.9915 - val_loss: 0.0780 - val_accuracy: 0.9784\n",
            "Epoch 7/30\n",
            "400/400 [==============================] - 6s 15ms/step - loss: 0.0210 - accuracy: 0.9931 - val_loss: 0.0629 - val_accuracy: 0.9817\n",
            "Epoch 8/30\n",
            "400/400 [==============================] - 6s 15ms/step - loss: 0.0188 - accuracy: 0.9936 - val_loss: 0.0651 - val_accuracy: 0.9820\n",
            "Epoch 9/30\n",
            "400/400 [==============================] - 6s 16ms/step - loss: 0.0174 - accuracy: 0.9947 - val_loss: 0.0786 - val_accuracy: 0.9803\n",
            "Epoch 10/30\n",
            "400/400 [==============================] - 6s 15ms/step - loss: 0.0162 - accuracy: 0.9947 - val_loss: 0.0729 - val_accuracy: 0.9809\n",
            "Epoch 11/30\n",
            "400/400 [==============================] - 6s 15ms/step - loss: 0.0153 - accuracy: 0.9945 - val_loss: 0.0823 - val_accuracy: 0.9805\n",
            "Epoch 12/30\n",
            "400/400 [==============================] - 6s 15ms/step - loss: 0.0118 - accuracy: 0.9962 - val_loss: 0.1023 - val_accuracy: 0.9775\n",
            "Epoch 13/30\n",
            "400/400 [==============================] - 6s 15ms/step - loss: 0.0106 - accuracy: 0.9966 - val_loss: 0.0917 - val_accuracy: 0.9794\n",
            "Epoch 14/30\n",
            "400/400 [==============================] - 6s 16ms/step - loss: 0.0127 - accuracy: 0.9962 - val_loss: 0.0978 - val_accuracy: 0.9784\n",
            "Epoch 15/30\n",
            "400/400 [==============================] - 6s 16ms/step - loss: 0.0087 - accuracy: 0.9973 - val_loss: 0.0778 - val_accuracy: 0.9822\n",
            "Epoch 16/30\n",
            "400/400 [==============================] - 6s 16ms/step - loss: 0.0106 - accuracy: 0.9966 - val_loss: 0.0905 - val_accuracy: 0.9806\n",
            "Epoch 17/30\n",
            "400/400 [==============================] - 6s 16ms/step - loss: 0.0128 - accuracy: 0.9959 - val_loss: 0.0958 - val_accuracy: 0.9818\n",
            "Epoch 18/30\n",
            "400/400 [==============================] - 6s 16ms/step - loss: 0.0073 - accuracy: 0.9978 - val_loss: 0.0957 - val_accuracy: 0.9821\n",
            "Epoch 19/30\n",
            "400/400 [==============================] - 6s 16ms/step - loss: 0.0093 - accuracy: 0.9970 - val_loss: 0.0830 - val_accuracy: 0.9842\n",
            "Epoch 20/30\n",
            "400/400 [==============================] - 6s 16ms/step - loss: 0.0100 - accuracy: 0.9967 - val_loss: 0.0945 - val_accuracy: 0.9824\n",
            "Epoch 21/30\n",
            "400/400 [==============================] - 6s 16ms/step - loss: 0.0077 - accuracy: 0.9978 - val_loss: 0.0842 - val_accuracy: 0.9842\n",
            "Epoch 22/30\n",
            "400/400 [==============================] - 6s 15ms/step - loss: 0.0029 - accuracy: 0.9991 - val_loss: 0.0993 - val_accuracy: 0.9823\n",
            "Epoch 23/30\n",
            "400/400 [==============================] - 6s 16ms/step - loss: 0.0116 - accuracy: 0.9965 - val_loss: 0.0904 - val_accuracy: 0.9818\n",
            "Epoch 24/30\n",
            "400/400 [==============================] - 6s 16ms/step - loss: 0.0048 - accuracy: 0.9986 - val_loss: 0.1027 - val_accuracy: 0.9815\n",
            "Epoch 25/30\n",
            "400/400 [==============================] - 6s 16ms/step - loss: 0.0068 - accuracy: 0.9981 - val_loss: 0.1000 - val_accuracy: 0.9822\n",
            "Epoch 26/30\n",
            "400/400 [==============================] - 6s 16ms/step - loss: 0.0080 - accuracy: 0.9974 - val_loss: 0.0888 - val_accuracy: 0.9848\n",
            "Epoch 27/30\n",
            "400/400 [==============================] - 6s 15ms/step - loss: 0.0056 - accuracy: 0.9983 - val_loss: 0.1173 - val_accuracy: 0.9789\n",
            "Epoch 28/30\n",
            "400/400 [==============================] - 6s 16ms/step - loss: 0.0080 - accuracy: 0.9974 - val_loss: 0.1175 - val_accuracy: 0.9791\n",
            "Epoch 29/30\n",
            "400/400 [==============================] - 6s 15ms/step - loss: 0.0055 - accuracy: 0.9982 - val_loss: 0.0915 - val_accuracy: 0.9839\n",
            "Epoch 30/30\n",
            "400/400 [==============================] - 6s 15ms/step - loss: 0.0057 - accuracy: 0.9985 - val_loss: 0.1050 - val_accuracy: 0.9813\n"
          ],
          "name": "stdout"
        }
      ]
    },
    {
      "cell_type": "code",
      "metadata": {
        "colab": {
          "base_uri": "https://localhost:8080/",
          "height": 313
        },
        "id": "WZcyWlzyO3DJ",
        "outputId": "8c0b9564-cc9e-4253-d03d-3434dc03edd7"
      },
      "source": [
        "score = model2_relu.evaluate(X_test, Y_test, verbose=0) \n",
        "print('Test score:', score[0]) \n",
        "print('Test accuracy:', score[1])\n",
        "\n",
        "fig,ax = plt.subplots(1,1)\n",
        "ax.set_xlabel('epoch') ; ax.set_ylabel('Categorical Crossentropy Loss')\n",
        "\n",
        "\n",
        "x = list(range(1,nb_epoch+1))\n",
        "\n",
        "\n",
        "\n",
        "vy = history.history['val_loss']\n",
        "ty = history.history['loss']\n",
        "plt_dynamic(x, vy, ty, ax)"
      ],
      "execution_count": 41,
      "outputs": [
        {
          "output_type": "stream",
          "text": [
            "Test score: 0.1049598753452301\n",
            "Test accuracy: 0.9812999963760376\n"
          ],
          "name": "stdout"
        },
        {
          "output_type": "display_data",
          "data": {
            "image/png": "[encoded data removed]",
            "text/plain": [
              "<Figure size 432x288 with 1 Axes>"
            ]
          },
          "metadata": {
            "needs_background": "light"
          }
        }
      ]
    },
    {
      "cell_type": "code",
      "metadata": {
        "colab": {
          "base_uri": "https://localhost:8080/"
        },
        "id": "moXKtAfUO3DJ",
        "outputId": "b42c5d93-0e3d-485f-ddf9-ddb307ac8014"
      },
      "source": [
        "for layers in model2_relu.layers:\n",
        "    print(\"layer name\",layers.name,\",input shape\",layers.input_shape,\",output shape\",layers.output_shape,\",bias shape\",layers.bias.shape)\n",
        "w_after = model2_relu.get_weights()\n",
        "print(len(w_after))\n",
        "    \n",
        "for i in range(len(w_after)):\n",
        "    print(w_after[i].shape)"
      ],
      "execution_count": 42,
      "outputs": [
        {
          "output_type": "stream",
          "text": [
            "layer name dense_9 ,input shape (None, 784) ,output shape (None, 520) ,bias shape (520,)\n",
            "layer name dense_10 ,input shape (None, 520) ,output shape (None, 320) ,bias shape (320,)\n",
            "layer name dense_11 ,input shape (None, 320) ,output shape (None, 120) ,bias shape (120,)\n",
            "layer name dense_12 ,input shape (None, 120) ,output shape (None, 10) ,bias shape (10,)\n",
            "8\n",
            "(784, 520)\n",
            "(520,)\n",
            "(520, 320)\n",
            "(320,)\n",
            "(320, 120)\n",
            "(120,)\n",
            "(120, 10)\n",
            "(10,)\n"
          ],
          "name": "stdout"
        }
      ]
    },
    {
      "cell_type": "code",
      "metadata": {
        "colab": {
          "base_uri": "https://localhost:8080/",
          "height": 285
        },
        "id": "VUmKef3xO3DJ",
        "outputId": "faa998c0-2f45-4709-dfd5-cb13e508bc2e"
      },
      "source": [
        "w_after = model2_relu.get_weights()\n",
        "\n",
        "h1_w = w_after[0].flatten().reshape(-1,1)\n",
        "h2_w = w_after[2].flatten().reshape(-1,1)\n",
        "h3_w = w_after[4].flatten().reshape(-1,1)\n",
        "out_w = w_after[6].flatten().reshape(-1,1)\n",
        "\n",
        "\n",
        "fig = plt.figure()\n",
        "plt.title(\"Weight matrices after model trained\")\n",
        "plt.subplot(2, 2, 1)\n",
        "plt.title(\"Trained model Weights\")\n",
        "ax = sns.violinplot(y=h1_w,color='b')\n",
        "plt.xlabel('Hidden Layer 1')\n",
        "\n",
        "plt.subplot(2, 2, 2)\n",
        "plt.title(\"Trained model Weights\")\n",
        "ax = sns.violinplot(y=h2_w, color='r')\n",
        "plt.xlabel('Hidden Layer 2 ')\n",
        "\n",
        "plt.subplot(2, 2, 3)\n",
        "plt.title(\"Trained model Weights\")\n",
        "ax = sns.violinplot(y=h3_w, color='r')\n",
        "plt.xlabel('Hidden Layer 3 ')\n",
        "\n",
        "plt.subplot(2, 2, 4)\n",
        "plt.title(\"Trained model Weights\")\n",
        "ax = sns.violinplot(y=out_w,color='y')\n",
        "plt.xlabel('Output Layer ')\n",
        "plt.show()"
      ],
      "execution_count": 43,
      "outputs": [
        {
          "output_type": "display_data",
          "data": {
            "image/png": "[encoded data removed]",
            "text/plain": [
              "<Figure size 432x288 with 4 Axes>"
            ]
          },
          "metadata": {
            "needs_background": "light"
          }
        }
      ]
    },
    {
      "cell_type": "markdown",
      "metadata": {
        "id": "Z88HZ03yO3DJ"
      },
      "source": [
        "### 2.2 batch normalization"
      ]
    },
    {
      "cell_type": "code",
      "metadata": {
        "colab": {
          "base_uri": "https://localhost:8080/"
        },
        "id": "ar_lLRevO3DK",
        "outputId": "ec2dbbcb-fded-4196-ea85-1492d19b1ecf"
      },
      "source": [
        "\n",
        "\n",
        "model2_batch = Sequential()\n",
        "\n",
        "model2_batch.add(Dense(500, activation='relu', input_shape=(input_dim,), kernel_initializer=RandomNormal(mean=0.0, stddev=0.063, seed=None)))\n",
        "model2_batch.add(BatchNormalization())\n",
        "\n",
        "model2_batch.add(Dense(200, activation='relu', kernel_initializer=RandomNormal(mean=0.0, stddev=0.1, seed=None)) )\n",
        "model2_batch.add(BatchNormalization())\n",
        "\n",
        "model2_batch.add(Dense(50, activation='relu', kernel_initializer=RandomNormal(mean=0.0, stddev=0.2, seed=None)) )\n",
        "model2_batch.add(BatchNormalization())\n",
        "\n",
        "model2_batch.add(Dense(output_dim, activation='softmax'))\n",
        "\n",
        "\n",
        "model2_batch.summary()"
      ],
      "execution_count": 46,
      "outputs": [
        {
          "output_type": "stream",
          "text": [
            "Model: \"sequential_9\"\n",
            "_________________________________________________________________\n",
            "Layer (type)                 Output Shape              Param #   \n",
            "=================================================================\n",
            "dense_14 (Dense)             (None, 500)               392500    \n",
            "_________________________________________________________________\n",
            "module_wrapper_14 (ModuleWra (None, 500)               2000      \n",
            "_________________________________________________________________\n",
            "dense_15 (Dense)             (None, 200)               100200    \n",
            "_________________________________________________________________\n",
            "module_wrapper_15 (ModuleWra (None, 200)               800       \n",
            "_________________________________________________________________\n",
            "dense_16 (Dense)             (None, 50)                10050     \n",
            "_________________________________________________________________\n",
            "module_wrapper_16 (ModuleWra (None, 50)                200       \n",
            "_________________________________________________________________\n",
            "dense_17 (Dense)             (None, 10)                510       \n",
            "=================================================================\n",
            "Total params: 506,260\n",
            "Trainable params: 504,760\n",
            "Non-trainable params: 1,500\n",
            "_________________________________________________________________\n"
          ],
          "name": "stdout"
        }
      ]
    },
    {
      "cell_type": "code",
      "metadata": {
        "colab": {
          "base_uri": "https://localhost:8080/"
        },
        "id": "kQI5joyYO3DK",
        "outputId": "3095c3ea-5a57-4424-a04f-90295c60f4d5"
      },
      "source": [
        "model2_batch.compile(optimizer='adam', loss='categorical_crossentropy', metrics=['accuracy'])\n",
        "\n",
        "history = model2_batch.fit(X_train, Y_train, batch_size=batch_size, epochs=nb_epoch, verbose=1, validation_data=(X_test, Y_test))"
      ],
      "execution_count": 47,
      "outputs": [
        {
          "output_type": "stream",
          "text": [
            "Epoch 1/30\n",
            "400/400 [==============================] - 7s 16ms/step - loss: 0.2290 - accuracy: 0.9350 - val_loss: 0.1178 - val_accuracy: 0.9637\n",
            "Epoch 2/30\n",
            "400/400 [==============================] - 6s 16ms/step - loss: 0.0743 - accuracy: 0.9780 - val_loss: 0.0802 - val_accuracy: 0.9758\n",
            "Epoch 3/30\n",
            "400/400 [==============================] - 6s 16ms/step - loss: 0.0442 - accuracy: 0.9870 - val_loss: 0.0752 - val_accuracy: 0.9767\n",
            "Epoch 4/30\n",
            "400/400 [==============================] - 6s 16ms/step - loss: 0.0301 - accuracy: 0.9908 - val_loss: 0.0854 - val_accuracy: 0.9740\n",
            "Epoch 5/30\n",
            "400/400 [==============================] - 6s 15ms/step - loss: 0.0268 - accuracy: 0.9916 - val_loss: 0.0915 - val_accuracy: 0.9738\n",
            "Epoch 6/30\n",
            "400/400 [==============================] - 6s 16ms/step - loss: 0.0217 - accuracy: 0.9936 - val_loss: 0.0976 - val_accuracy: 0.9717\n",
            "Epoch 7/30\n",
            "400/400 [==============================] - 6s 15ms/step - loss: 0.0207 - accuracy: 0.9935 - val_loss: 0.0760 - val_accuracy: 0.9771\n",
            "Epoch 8/30\n",
            "400/400 [==============================] - 6s 15ms/step - loss: 0.0162 - accuracy: 0.9947 - val_loss: 0.0770 - val_accuracy: 0.9779\n",
            "Epoch 9/30\n",
            "400/400 [==============================] - 6s 16ms/step - loss: 0.0147 - accuracy: 0.9952 - val_loss: 0.0820 - val_accuracy: 0.9779\n",
            "Epoch 10/30\n",
            "400/400 [==============================] - 6s 15ms/step - loss: 0.0146 - accuracy: 0.9951 - val_loss: 0.0770 - val_accuracy: 0.9778\n",
            "Epoch 11/30\n",
            "400/400 [==============================] - 6s 15ms/step - loss: 0.0105 - accuracy: 0.9967 - val_loss: 0.0809 - val_accuracy: 0.9790\n",
            "Epoch 12/30\n",
            "400/400 [==============================] - 6s 15ms/step - loss: 0.0105 - accuracy: 0.9964 - val_loss: 0.0783 - val_accuracy: 0.9811\n",
            "Epoch 13/30\n",
            "400/400 [==============================] - 6s 15ms/step - loss: 0.0093 - accuracy: 0.9970 - val_loss: 0.0772 - val_accuracy: 0.9784\n",
            "Epoch 14/30\n",
            "400/400 [==============================] - 6s 15ms/step - loss: 0.0114 - accuracy: 0.9958 - val_loss: 0.0724 - val_accuracy: 0.9799\n",
            "Epoch 15/30\n",
            "400/400 [==============================] - 6s 15ms/step - loss: 0.0090 - accuracy: 0.9969 - val_loss: 0.0661 - val_accuracy: 0.9815\n",
            "Epoch 16/30\n",
            "400/400 [==============================] - 6s 14ms/step - loss: 0.0083 - accuracy: 0.9973 - val_loss: 0.0846 - val_accuracy: 0.9785\n",
            "Epoch 17/30\n",
            "400/400 [==============================] - 6s 15ms/step - loss: 0.0110 - accuracy: 0.9966 - val_loss: 0.0948 - val_accuracy: 0.9774\n",
            "Epoch 18/30\n",
            "400/400 [==============================] - 6s 15ms/step - loss: 0.0085 - accuracy: 0.9974 - val_loss: 0.0715 - val_accuracy: 0.9820\n",
            "Epoch 19/30\n",
            "400/400 [==============================] - 6s 15ms/step - loss: 0.0069 - accuracy: 0.9978 - val_loss: 0.0677 - val_accuracy: 0.9832\n",
            "Epoch 20/30\n",
            "400/400 [==============================] - 6s 15ms/step - loss: 0.0060 - accuracy: 0.9980 - val_loss: 0.0833 - val_accuracy: 0.9813\n",
            "Epoch 21/30\n",
            "400/400 [==============================] - 6s 15ms/step - loss: 0.0074 - accuracy: 0.9976 - val_loss: 0.0826 - val_accuracy: 0.9807\n",
            "Epoch 22/30\n",
            "400/400 [==============================] - 6s 14ms/step - loss: 0.0090 - accuracy: 0.9967 - val_loss: 0.0745 - val_accuracy: 0.9828\n",
            "Epoch 23/30\n",
            "400/400 [==============================] - 6s 14ms/step - loss: 0.0057 - accuracy: 0.9980 - val_loss: 0.0768 - val_accuracy: 0.9827\n",
            "Epoch 24/30\n",
            "400/400 [==============================] - 6s 14ms/step - loss: 0.0058 - accuracy: 0.9982 - val_loss: 0.0742 - val_accuracy: 0.9823\n",
            "Epoch 25/30\n",
            "400/400 [==============================] - 6s 14ms/step - loss: 0.0041 - accuracy: 0.9985 - val_loss: 0.0768 - val_accuracy: 0.9811\n",
            "Epoch 26/30\n",
            "400/400 [==============================] - 6s 15ms/step - loss: 0.0066 - accuracy: 0.9978 - val_loss: 0.0917 - val_accuracy: 0.9797\n",
            "Epoch 27/30\n",
            "400/400 [==============================] - 6s 14ms/step - loss: 0.0053 - accuracy: 0.9983 - val_loss: 0.0955 - val_accuracy: 0.9804\n",
            "Epoch 28/30\n",
            "400/400 [==============================] - 6s 14ms/step - loss: 0.0056 - accuracy: 0.9983 - val_loss: 0.0777 - val_accuracy: 0.9820\n",
            "Epoch 29/30\n",
            "400/400 [==============================] - 6s 14ms/step - loss: 0.0056 - accuracy: 0.9980 - val_loss: 0.0844 - val_accuracy: 0.9806\n",
            "Epoch 30/30\n",
            "400/400 [==============================] - 6s 14ms/step - loss: 0.0053 - accuracy: 0.9981 - val_loss: 0.0940 - val_accuracy: 0.9804\n"
          ],
          "name": "stdout"
        }
      ]
    },
    {
      "cell_type": "code",
      "metadata": {
        "colab": {
          "base_uri": "https://localhost:8080/",
          "height": 313
        },
        "id": "m_4Pm6KxO3DK",
        "outputId": "dbebcb7e-81fd-4839-e629-d192f2daf3c1"
      },
      "source": [
        "score = model2_batch.evaluate(X_test, Y_test, verbose=0) \n",
        "print('Test score:', score[0]) \n",
        "print('Test accuracy:', score[1])\n",
        "\n",
        "fig,ax = plt.subplots(1,1)\n",
        "ax.set_xlabel('epoch') ; ax.set_ylabel('Categorical Crossentropy Loss')\n",
        "\n",
        "# list of epoch numbers\n",
        "x = list(range(1,nb_epoch+1))\n",
        "\n",
        "# print(history.history.keys())\n",
        "# dict_keys(['val_loss', 'val_acc', 'loss', 'acc'])\n",
        "# history = model_drop.fit(X_train, Y_train, batch_size=batch_size, epochs=nb_epoch, verbose=1, validation_data=(X_test, Y_test))\n",
        "\n",
        "# we will get val_loss and val_acc only when you pass the paramter validation_data\n",
        "# val_loss : validation loss\n",
        "# val_acc : validation accuracy\n",
        "\n",
        "# loss : training loss\n",
        "# acc : train accuracy\n",
        "# for each key in histrory.histrory we will have a list of length equal to number of epochs\n",
        "\n",
        "vy = history.history['val_loss']\n",
        "ty = history.history['loss']\n",
        "plt_dynamic(x, vy, ty, ax)"
      ],
      "execution_count": 48,
      "outputs": [
        {
          "output_type": "stream",
          "text": [
            "Test score: 0.09398580342531204\n",
            "Test accuracy: 0.980400025844574\n"
          ],
          "name": "stdout"
        },
        {
          "output_type": "display_data",
          "data": {
            "image/png": "[encoded data removed]",
            "text/plain": [
              "<Figure size 432x288 with 1 Axes>"
            ]
          },
          "metadata": {
            "needs_background": "light"
          }
        }
      ]
    },
    {
      "cell_type": "code",
      "metadata": {
        "colab": {
          "base_uri": "https://localhost:8080/"
        },
        "id": "sBEu6KFlO3DK",
        "outputId": "f15b665c-7814-4cf5-88ae-cb064c3ea19e"
      },
      "source": [
        "for layers in model2_batch.layers:\n",
        "    print(\"layer name\",layers.name,\",input shape\",layers.input_shape,\",output shape\",layers.output_shape)\n",
        "w_after = model2_batch.get_weights()\n",
        "print(len(w_after))\n",
        "    \n",
        "for i in range(len(w_after)):\n",
        "    print(w_after[i].shape)"
      ],
      "execution_count": 50,
      "outputs": [
        {
          "output_type": "stream",
          "text": [
            "layer name dense_14 ,input shape (None, 784) ,output shape (None, 500)\n",
            "layer name module_wrapper_14 ,input shape (None, 500) ,output shape (None, 500)\n",
            "layer name dense_15 ,input shape (None, 500) ,output shape (None, 200)\n",
            "layer name module_wrapper_15 ,input shape (None, 200) ,output shape (None, 200)\n",
            "layer name dense_16 ,input shape (None, 200) ,output shape (None, 50)\n",
            "layer name module_wrapper_16 ,input shape (None, 50) ,output shape (None, 50)\n",
            "layer name dense_17 ,input shape (None, 50) ,output shape (None, 10)\n",
            "20\n",
            "(784, 500)\n",
            "(500,)\n",
            "(500,)\n",
            "(500,)\n",
            "(500,)\n",
            "(500,)\n",
            "(500, 200)\n",
            "(200,)\n",
            "(200,)\n",
            "(200,)\n",
            "(200,)\n",
            "(200,)\n",
            "(200, 50)\n",
            "(50,)\n",
            "(50,)\n",
            "(50,)\n",
            "(50,)\n",
            "(50,)\n",
            "(50, 10)\n",
            "(10,)\n"
          ],
          "name": "stdout"
        }
      ]
    },
    {
      "cell_type": "code",
      "metadata": {
        "colab": {
          "base_uri": "https://localhost:8080/",
          "height": 285
        },
        "id": "L5tNGKPzO3DL",
        "outputId": "a36f420f-d5ae-4e28-8553-07f84b502069"
      },
      "source": [
        "w_after = model2_batch.get_weights()\n",
        "\n",
        "h1_w = w_after[0].flatten().reshape(-1,1)\n",
        "h2_w = w_after[6].flatten().reshape(-1,1)\n",
        "h3_w = w_after[12].flatten().reshape(-1,1)\n",
        "out_w = w_after[18].flatten().reshape(-1,1)\n",
        "\n",
        "\n",
        "fig = plt.figure()\n",
        "plt.title(\"Weight matrices after model trained\")\n",
        "plt.subplot(2, 2, 1)\n",
        "plt.title(\"Trained model Weights\")\n",
        "ax = sns.violinplot(y=h1_w,color='b')\n",
        "plt.xlabel('Hidden Layer 1')\n",
        "\n",
        "plt.subplot(2, 2, 2)\n",
        "plt.title(\"Trained model Weights\")\n",
        "ax = sns.violinplot(y=h2_w, color='r')\n",
        "plt.xlabel('Hidden Layer 2 ')\n",
        "\n",
        "plt.subplot(2, 2, 3)\n",
        "plt.title(\"Trained model Weights\")\n",
        "ax = sns.violinplot(y=h3_w, color='r')\n",
        "plt.xlabel('Hidden Layer 3 ')\n",
        "\n",
        "plt.subplot(2, 2, 4)\n",
        "plt.title(\"Trained model Weights\")\n",
        "ax = sns.violinplot(y=out_w,color='y')\n",
        "plt.xlabel('Output Layer ')\n",
        "plt.show()"
      ],
      "execution_count": 51,
      "outputs": [
        {
          "output_type": "display_data",
          "data": {
            "image/png": "[encoded data removed]",
            "text/plain": [
              "<Figure size 432x288 with 4 Axes>"
            ]
          },
          "metadata": {
            "needs_background": "light"
          }
        }
      ]
    },
    {
      "cell_type": "markdown",
      "metadata": {
        "id": "7OTxHkcAO3DL"
      },
      "source": [
        "### 2.3 dropout"
      ]
    },
    {
      "cell_type": "code",
      "metadata": {
        "colab": {
          "base_uri": "https://localhost:8080/"
        },
        "id": "6c7HISdwO3DL",
        "outputId": "6e7c97da-34a8-48f5-de38-3c60d98fc6c9"
      },
      "source": [
        "from tensorflow.keras.layers import Dropout\n",
        "\n",
        "model2_drop = Sequential()\n",
        "\n",
        "model2_drop.add(Dense(500, activation='relu', input_shape=(input_dim,), kernel_initializer=RandomNormal(mean=0.0, stddev=0.063, seed=None)))\n",
        "model2_drop.add(BatchNormalization())\n",
        "model2_drop.add(Dropout(0.5))\n",
        "\n",
        "model2_drop.add(Dense(200, activation='relu', kernel_initializer=RandomNormal(mean=0.0, stddev=0.1, seed=None)) )\n",
        "model2_drop.add(BatchNormalization())\n",
        "model2_drop.add(Dropout(0.5))\n",
        "\n",
        "model2_drop.add(Dense(50, activation='relu', kernel_initializer=RandomNormal(mean=0.0, stddev=0.2, seed=None)) )\n",
        "model2_drop.add(BatchNormalization())\n",
        "model2_drop.add(Dropout(0.5))\n",
        "\n",
        "model2_drop.add(Dense(output_dim, activation='softmax'))\n",
        "\n",
        "\n",
        "model2_drop.summary()"
      ],
      "execution_count": 52,
      "outputs": [
        {
          "output_type": "stream",
          "text": [
            "Model: \"sequential_10\"\n",
            "_________________________________________________________________\n",
            "Layer (type)                 Output Shape              Param #   \n",
            "=================================================================\n",
            "dense_18 (Dense)             (None, 500)               392500    \n",
            "_________________________________________________________________\n",
            "module_wrapper_17 (ModuleWra (None, 500)               2000      \n",
            "_________________________________________________________________\n",
            "dropout_2 (Dropout)          (None, 500)               0         \n",
            "_________________________________________________________________\n",
            "dense_19 (Dense)             (None, 200)               100200    \n",
            "_________________________________________________________________\n",
            "module_wrapper_18 (ModuleWra (None, 200)               800       \n",
            "_________________________________________________________________\n",
            "dropout_3 (Dropout)          (None, 200)               0         \n",
            "_________________________________________________________________\n",
            "dense_20 (Dense)             (None, 50)                10050     \n",
            "_________________________________________________________________\n",
            "module_wrapper_19 (ModuleWra (None, 50)                200       \n",
            "_________________________________________________________________\n",
            "dropout_4 (Dropout)          (None, 50)                0         \n",
            "_________________________________________________________________\n",
            "dense_21 (Dense)             (None, 10)                510       \n",
            "=================================================================\n",
            "Total params: 506,260\n",
            "Trainable params: 504,760\n",
            "Non-trainable params: 1,500\n",
            "_________________________________________________________________\n"
          ],
          "name": "stdout"
        }
      ]
    },
    {
      "cell_type": "code",
      "metadata": {
        "colab": {
          "base_uri": "https://localhost:8080/"
        },
        "id": "fMJh5E-8O3DL",
        "outputId": "30f958f5-e1d0-42e4-f99e-e04c3ee302f9"
      },
      "source": [
        "model2_drop.compile(optimizer='adam', loss='categorical_crossentropy', metrics=['accuracy'])\n",
        "\n",
        "history = model2_drop.fit(X_train, Y_train, batch_size=batch_size, epochs=nb_epoch, verbose=1, validation_data=(X_test, Y_test))"
      ],
      "execution_count": 53,
      "outputs": [
        {
          "output_type": "stream",
          "text": [
            "Epoch 1/30\n",
            "400/400 [==============================] - 7s 16ms/step - loss: 0.8117 - accuracy: 0.7549 - val_loss: 0.2113 - val_accuracy: 0.9345\n",
            "Epoch 2/30\n",
            "400/400 [==============================] - 6s 15ms/step - loss: 0.3406 - accuracy: 0.9036 - val_loss: 0.1478 - val_accuracy: 0.9549\n",
            "Epoch 3/30\n",
            "400/400 [==============================] - 6s 15ms/step - loss: 0.2537 - accuracy: 0.9296 - val_loss: 0.1221 - val_accuracy: 0.9623\n",
            "Epoch 4/30\n",
            "400/400 [==============================] - 6s 15ms/step - loss: 0.2066 - accuracy: 0.9436 - val_loss: 0.1039 - val_accuracy: 0.9688\n",
            "Epoch 5/30\n",
            "400/400 [==============================] - 6s 15ms/step - loss: 0.1823 - accuracy: 0.9496 - val_loss: 0.0958 - val_accuracy: 0.9707\n",
            "Epoch 6/30\n",
            "400/400 [==============================] - 6s 15ms/step - loss: 0.1599 - accuracy: 0.9558 - val_loss: 0.0931 - val_accuracy: 0.9731\n",
            "Epoch 7/30\n",
            "400/400 [==============================] - 6s 15ms/step - loss: 0.1440 - accuracy: 0.9599 - val_loss: 0.0854 - val_accuracy: 0.9751\n",
            "Epoch 8/30\n",
            "400/400 [==============================] - 6s 16ms/step - loss: 0.1342 - accuracy: 0.9620 - val_loss: 0.0757 - val_accuracy: 0.9792\n",
            "Epoch 9/30\n",
            "400/400 [==============================] - 6s 16ms/step - loss: 0.1291 - accuracy: 0.9647 - val_loss: 0.0756 - val_accuracy: 0.9785\n",
            "Epoch 10/30\n",
            "400/400 [==============================] - 6s 15ms/step - loss: 0.1156 - accuracy: 0.9675 - val_loss: 0.0690 - val_accuracy: 0.9807\n",
            "Epoch 11/30\n",
            "400/400 [==============================] - 6s 15ms/step - loss: 0.1064 - accuracy: 0.9708 - val_loss: 0.0730 - val_accuracy: 0.9795\n",
            "Epoch 12/30\n",
            "400/400 [==============================] - 6s 15ms/step - loss: 0.1043 - accuracy: 0.9705 - val_loss: 0.0678 - val_accuracy: 0.9812\n",
            "Epoch 13/30\n",
            "400/400 [==============================] - 6s 15ms/step - loss: 0.0960 - accuracy: 0.9727 - val_loss: 0.0732 - val_accuracy: 0.9805\n",
            "Epoch 14/30\n",
            "400/400 [==============================] - 6s 15ms/step - loss: 0.0954 - accuracy: 0.9736 - val_loss: 0.0691 - val_accuracy: 0.9813\n",
            "Epoch 15/30\n",
            "400/400 [==============================] - 6s 16ms/step - loss: 0.0902 - accuracy: 0.9746 - val_loss: 0.0648 - val_accuracy: 0.9811\n",
            "Epoch 16/30\n",
            "400/400 [==============================] - 6s 16ms/step - loss: 0.0853 - accuracy: 0.9757 - val_loss: 0.0654 - val_accuracy: 0.9830\n",
            "Epoch 17/30\n",
            "400/400 [==============================] - 6s 15ms/step - loss: 0.0835 - accuracy: 0.9768 - val_loss: 0.0697 - val_accuracy: 0.9808\n",
            "Epoch 18/30\n",
            "400/400 [==============================] - 6s 16ms/step - loss: 0.0791 - accuracy: 0.9771 - val_loss: 0.0652 - val_accuracy: 0.9821\n",
            "Epoch 19/30\n",
            "400/400 [==============================] - 6s 16ms/step - loss: 0.0749 - accuracy: 0.9785 - val_loss: 0.0639 - val_accuracy: 0.9836\n",
            "Epoch 20/30\n",
            "400/400 [==============================] - 6s 16ms/step - loss: 0.0733 - accuracy: 0.9791 - val_loss: 0.0650 - val_accuracy: 0.9831\n",
            "Epoch 21/30\n",
            "400/400 [==============================] - 6s 16ms/step - loss: 0.0732 - accuracy: 0.9790 - val_loss: 0.0653 - val_accuracy: 0.9832\n",
            "Epoch 22/30\n",
            "400/400 [==============================] - 6s 15ms/step - loss: 0.0663 - accuracy: 0.9810 - val_loss: 0.0662 - val_accuracy: 0.9830\n",
            "Epoch 23/30\n",
            "400/400 [==============================] - 6s 15ms/step - loss: 0.0659 - accuracy: 0.9808 - val_loss: 0.0638 - val_accuracy: 0.9841\n",
            "Epoch 24/30\n",
            "400/400 [==============================] - 6s 15ms/step - loss: 0.0649 - accuracy: 0.9812 - val_loss: 0.0628 - val_accuracy: 0.9830\n",
            "Epoch 25/30\n",
            "400/400 [==============================] - 6s 15ms/step - loss: 0.0616 - accuracy: 0.9825 - val_loss: 0.0609 - val_accuracy: 0.9838\n",
            "Epoch 26/30\n",
            "400/400 [==============================] - 6s 16ms/step - loss: 0.0597 - accuracy: 0.9822 - val_loss: 0.0638 - val_accuracy: 0.9844\n",
            "Epoch 27/30\n",
            "400/400 [==============================] - 6s 15ms/step - loss: 0.0614 - accuracy: 0.9826 - val_loss: 0.0625 - val_accuracy: 0.9843\n",
            "Epoch 28/30\n",
            "400/400 [==============================] - 6s 15ms/step - loss: 0.0609 - accuracy: 0.9829 - val_loss: 0.0660 - val_accuracy: 0.9825\n",
            "Epoch 29/30\n",
            "400/400 [==============================] - 6s 14ms/step - loss: 0.0581 - accuracy: 0.9829 - val_loss: 0.0619 - val_accuracy: 0.9845\n",
            "Epoch 30/30\n",
            "400/400 [==============================] - 6s 15ms/step - loss: 0.0578 - accuracy: 0.9837 - val_loss: 0.0683 - val_accuracy: 0.9823\n"
          ],
          "name": "stdout"
        }
      ]
    },
    {
      "cell_type": "code",
      "metadata": {
        "colab": {
          "base_uri": "https://localhost:8080/",
          "height": 313
        },
        "id": "KK220wg_O3DL",
        "outputId": "6da820f4-8d17-49c4-f8a0-f8ec79bdaaff"
      },
      "source": [
        "score = model2_drop.evaluate(X_test, Y_test, verbose=0) \n",
        "print('Test score:', score[0]) \n",
        "print('Test accuracy:', score[1])\n",
        "\n",
        "fig,ax = plt.subplots(1,1)\n",
        "ax.set_xlabel('epoch') ; ax.set_ylabel('Categorical Crossentropy Loss')\n",
        "\n",
        "# list of epoch numbers\n",
        "x = list(range(1,nb_epoch+1))\n",
        "\n",
        "# print(history.history.keys())\n",
        "# dict_keys(['val_loss', 'val_acc', 'loss', 'acc'])\n",
        "# history = model_drop.fit(X_train, Y_train, batch_size=batch_size, epochs=nb_epoch, verbose=1, validation_data=(X_test, Y_test))\n",
        "\n",
        "# we will get val_loss and val_acc only when you pass the paramter validation_data\n",
        "# val_loss : validation loss\n",
        "# val_acc : validation accuracy\n",
        "\n",
        "# loss : training loss\n",
        "# acc : train accuracy\n",
        "# for each key in histrory.histrory we will have a list of length equal to number of epochs\n",
        "\n",
        "vy = history.history['val_loss']\n",
        "ty = history.history['loss']\n",
        "plt_dynamic(x, vy, ty, ax)"
      ],
      "execution_count": 54,
      "outputs": [
        {
          "output_type": "stream",
          "text": [
            "Test score: 0.06829633563756943\n",
            "Test accuracy: 0.9822999835014343\n"
          ],
          "name": "stdout"
        },
        {
          "output_type": "display_data",
          "data": {
            "image/png": "[encoded data removed]",
            "text/plain": [
              "<Figure size 432x288 with 1 Axes>"
            ]
          },
          "metadata": {
            "needs_background": "light"
          }
        }
      ]
    },
    {
      "cell_type": "code",
      "metadata": {
        "colab": {
          "base_uri": "https://localhost:8080/"
        },
        "id": "UK7fwr63O3DL",
        "outputId": "1dc00f9d-5b0b-4245-e34d-7408a00cae0a"
      },
      "source": [
        "for layers in model2_drop.layers:\n",
        "    print(\"layer name\",layers.name,\",input shape\",layers.input_shape,\",output shape\",layers.output_shape)\n",
        "w_after = model2_drop.get_weights()\n",
        "print(len(w_after))\n",
        "    \n",
        "for i in range(len(w_after)):\n",
        "    print(w_after[i].shape)"
      ],
      "execution_count": 56,
      "outputs": [
        {
          "output_type": "stream",
          "text": [
            "layer name dense_18 ,input shape (None, 784) ,output shape (None, 500)\n",
            "layer name module_wrapper_17 ,input shape (None, 500) ,output shape (None, 500)\n",
            "layer name dropout_2 ,input shape (None, 500) ,output shape (None, 500)\n",
            "layer name dense_19 ,input shape (None, 500) ,output shape (None, 200)\n",
            "layer name module_wrapper_18 ,input shape (None, 200) ,output shape (None, 200)\n",
            "layer name dropout_3 ,input shape (None, 200) ,output shape (None, 200)\n",
            "layer name dense_20 ,input shape (None, 200) ,output shape (None, 50)\n",
            "layer name module_wrapper_19 ,input shape (None, 50) ,output shape (None, 50)\n",
            "layer name dropout_4 ,input shape (None, 50) ,output shape (None, 50)\n",
            "layer name dense_21 ,input shape (None, 50) ,output shape (None, 10)\n",
            "20\n",
            "(784, 500)\n",
            "(500,)\n",
            "(500,)\n",
            "(500,)\n",
            "(500,)\n",
            "(500,)\n",
            "(500, 200)\n",
            "(200,)\n",
            "(200,)\n",
            "(200,)\n",
            "(200,)\n",
            "(200,)\n",
            "(200, 50)\n",
            "(50,)\n",
            "(50,)\n",
            "(50,)\n",
            "(50,)\n",
            "(50,)\n",
            "(50, 10)\n",
            "(10,)\n"
          ],
          "name": "stdout"
        }
      ]
    },
    {
      "cell_type": "code",
      "metadata": {
        "colab": {
          "base_uri": "https://localhost:8080/",
          "height": 285
        },
        "id": "1admwrR5O3DM",
        "outputId": "19b688ff-c450-436e-b40d-b3c4efea771e"
      },
      "source": [
        "w_after =  model2_drop.get_weights()\n",
        "\n",
        "h1_w = w_after[0].flatten().reshape(-1,1)\n",
        "h2_w = w_after[6].flatten().reshape(-1,1)\n",
        "h3_w = w_after[12].flatten().reshape(-1,1)\n",
        "out_w = w_after[18].flatten().reshape(-1,1)\n",
        "\n",
        "\n",
        "fig = plt.figure()\n",
        "plt.title(\"Weight matrices after model trained\")\n",
        "plt.subplot(2, 2, 1)\n",
        "plt.title(\"Trained model Weights\")\n",
        "ax = sns.violinplot(y=h1_w,color='b')\n",
        "plt.xlabel('Hidden Layer 1')\n",
        "\n",
        "plt.subplot(2, 2, 2)\n",
        "plt.title(\"Trained model Weights\")\n",
        "ax = sns.violinplot(y=h2_w, color='r')\n",
        "plt.xlabel('Hidden Layer 2 ')\n",
        "\n",
        "plt.subplot(2, 2, 3)\n",
        "plt.title(\"Trained model Weights\")\n",
        "ax = sns.violinplot(y=h3_w, color='r')\n",
        "plt.xlabel('Hidden Layer 3 ')\n",
        "\n",
        "plt.subplot(2, 2, 4)\n",
        "plt.title(\"Trained model Weights\")\n",
        "ax = sns.violinplot(y=out_w,color='y')\n",
        "plt.xlabel('Output Layer ')\n",
        "plt.show()"
      ],
      "execution_count": 57,
      "outputs": [
        {
          "output_type": "display_data",
          "data": {
            "image/png": "[encoded data removed]",
            "text/plain": [
              "<Figure size 432x288 with 4 Axes>"
            ]
          },
          "metadata": {
            "needs_background": "light"
          }
        }
      ]
    },
    {
      "cell_type": "markdown",
      "metadata": {
        "id": "ISmBPRANO3DM"
      },
      "source": [
        "## 3.Five hidden layer Architecture"
      ]
    },
    {
      "cell_type": "markdown",
      "metadata": {
        "id": "hOhb0hleO3DM"
      },
      "source": [
        "### 3.1 Five hidden layer with Relu + Adam"
      ]
    },
    {
      "cell_type": "code",
      "metadata": {
        "id": "p4D1IuBNO3DM"
      },
      "source": [
        "batch_size = 100\n",
        "nb_epoch = 20"
      ],
      "execution_count": 58,
      "outputs": []
    },
    {
      "cell_type": "code",
      "metadata": {
        "colab": {
          "base_uri": "https://localhost:8080/"
        },
        "id": "aCdXqxeKO3DM",
        "outputId": "b341238d-f9ef-4457-d188-497ee8128436"
      },
      "source": [
        "model3_relu = Sequential()\n",
        "model3_relu.add(Dense(600, activation='relu', input_shape=(input_dim,)))\n",
        "model3_relu.add(Dense(300, activation='relu'))\n",
        "model3_relu.add(Dense(150, activation='relu'))\n",
        "model3_relu.add(Dense(75, activation='relu'))\n",
        "model3_relu.add(Dense(30, activation='relu'))\n",
        "model3_relu.add(Dense(output_dim, activation='softmax'))\n",
        "model3_relu.summary()"
      ],
      "execution_count": 59,
      "outputs": [
        {
          "output_type": "stream",
          "text": [
            "Model: \"sequential_11\"\n",
            "_________________________________________________________________\n",
            "Layer (type)                 Output Shape              Param #   \n",
            "=================================================================\n",
            "dense_22 (Dense)             (None, 600)               471000    \n",
            "_________________________________________________________________\n",
            "dense_23 (Dense)             (None, 300)               180300    \n",
            "_________________________________________________________________\n",
            "dense_24 (Dense)             (None, 150)               45150     \n",
            "_________________________________________________________________\n",
            "dense_25 (Dense)             (None, 75)                11325     \n",
            "_________________________________________________________________\n",
            "dense_26 (Dense)             (None, 30)                2280      \n",
            "_________________________________________________________________\n",
            "dense_27 (Dense)             (None, 10)                310       \n",
            "=================================================================\n",
            "Total params: 710,365\n",
            "Trainable params: 710,365\n",
            "Non-trainable params: 0\n",
            "_________________________________________________________________\n"
          ],
          "name": "stdout"
        }
      ]
    },
    {
      "cell_type": "code",
      "metadata": {
        "colab": {
          "base_uri": "https://localhost:8080/"
        },
        "id": "PswDgMNnO3DM",
        "outputId": "277fc9a7-22bf-4555-80fa-1a2aa0867584"
      },
      "source": [
        "model3_relu.compile(optimizer='adam', loss='categorical_crossentropy', metrics=['accuracy'])\n",
        "\n",
        "history = model3_relu.fit(X_train, Y_train, batch_size=batch_size, epochs=nb_epoch, verbose=1, validation_data=(X_test, Y_test))"
      ],
      "execution_count": 60,
      "outputs": [
        {
          "output_type": "stream",
          "text": [
            "Epoch 1/20\n",
            "600/600 [==============================] - 9s 14ms/step - loss: 0.2523 - accuracy: 0.9239 - val_loss: 0.1648 - val_accuracy: 0.9506\n",
            "Epoch 2/20\n",
            "600/600 [==============================] - 8s 13ms/step - loss: 0.0906 - accuracy: 0.9718 - val_loss: 0.0835 - val_accuracy: 0.9744\n",
            "Epoch 3/20\n",
            "600/600 [==============================] - 7s 12ms/step - loss: 0.0649 - accuracy: 0.9796 - val_loss: 0.0714 - val_accuracy: 0.9774\n",
            "Epoch 4/20\n",
            "600/600 [==============================] - 7s 12ms/step - loss: 0.0484 - accuracy: 0.9846 - val_loss: 0.0788 - val_accuracy: 0.9772\n",
            "Epoch 5/20\n",
            "600/600 [==============================] - 7s 12ms/step - loss: 0.0397 - accuracy: 0.9876 - val_loss: 0.0798 - val_accuracy: 0.9791\n",
            "Epoch 6/20\n",
            "600/600 [==============================] - 8s 13ms/step - loss: 0.0318 - accuracy: 0.9901 - val_loss: 0.0766 - val_accuracy: 0.9798\n",
            "Epoch 7/20\n",
            "600/600 [==============================] - 8s 13ms/step - loss: 0.0296 - accuracy: 0.9904 - val_loss: 0.0810 - val_accuracy: 0.9787\n",
            "Epoch 8/20\n",
            "600/600 [==============================] - 7s 12ms/step - loss: 0.0249 - accuracy: 0.9920 - val_loss: 0.0944 - val_accuracy: 0.9769\n",
            "Epoch 9/20\n",
            "600/600 [==============================] - 8s 13ms/step - loss: 0.0230 - accuracy: 0.9927 - val_loss: 0.0798 - val_accuracy: 0.9803\n",
            "Epoch 10/20\n",
            "600/600 [==============================] - 8s 13ms/step - loss: 0.0189 - accuracy: 0.9943 - val_loss: 0.0876 - val_accuracy: 0.9792\n",
            "Epoch 11/20\n",
            "600/600 [==============================] - 8s 13ms/step - loss: 0.0174 - accuracy: 0.9950 - val_loss: 0.0915 - val_accuracy: 0.9771\n",
            "Epoch 12/20\n",
            "600/600 [==============================] - 7s 12ms/step - loss: 0.0198 - accuracy: 0.9941 - val_loss: 0.0749 - val_accuracy: 0.9816\n",
            "Epoch 13/20\n",
            "600/600 [==============================] - 8s 13ms/step - loss: 0.0146 - accuracy: 0.9959 - val_loss: 0.0860 - val_accuracy: 0.9826\n",
            "Epoch 14/20\n",
            "600/600 [==============================] - 7s 12ms/step - loss: 0.0133 - accuracy: 0.9958 - val_loss: 0.0906 - val_accuracy: 0.9797\n",
            "Epoch 15/20\n",
            "600/600 [==============================] - 8s 13ms/step - loss: 0.0132 - accuracy: 0.9963 - val_loss: 0.0870 - val_accuracy: 0.9803\n",
            "Epoch 16/20\n",
            "600/600 [==============================] - 8s 13ms/step - loss: 0.0103 - accuracy: 0.9968 - val_loss: 0.0944 - val_accuracy: 0.9822\n",
            "Epoch 17/20\n",
            "600/600 [==============================] - 7s 12ms/step - loss: 0.0159 - accuracy: 0.9952 - val_loss: 0.0804 - val_accuracy: 0.9835\n",
            "Epoch 18/20\n",
            "600/600 [==============================] - 8s 13ms/step - loss: 0.0106 - accuracy: 0.9969 - val_loss: 0.0790 - val_accuracy: 0.9827\n",
            "Epoch 19/20\n",
            "600/600 [==============================] - 8s 13ms/step - loss: 0.0083 - accuracy: 0.9976 - val_loss: 0.0943 - val_accuracy: 0.9816\n",
            "Epoch 20/20\n",
            "600/600 [==============================] - 8s 13ms/step - loss: 0.0112 - accuracy: 0.9966 - val_loss: 0.0944 - val_accuracy: 0.9844\n"
          ],
          "name": "stdout"
        }
      ]
    },
    {
      "cell_type": "code",
      "metadata": {
        "colab": {
          "base_uri": "https://localhost:8080/",
          "height": 313
        },
        "id": "-0btTqGhO3DN",
        "outputId": "f19fc3d2-cb34-435d-97b4-7b48def433f1"
      },
      "source": [
        "score = model3_relu.evaluate(X_test, Y_test, verbose=0) \n",
        "print('Test score:', score[0]) \n",
        "print('Test accuracy:', score[1])\n",
        "\n",
        "fig,ax = plt.subplots(1,1)\n",
        "ax.set_xlabel('epoch') ; ax.set_ylabel('Categorical Crossentropy Loss')\n",
        "\n",
        "\n",
        "x = list(range(1,nb_epoch+1))\n",
        "\n",
        "\n",
        "\n",
        "vy = history.history['val_loss']\n",
        "ty = history.history['loss']\n",
        "plt_dynamic(x, vy, ty, ax)"
      ],
      "execution_count": 61,
      "outputs": [
        {
          "output_type": "stream",
          "text": [
            "Test score: 0.09438823908567429\n",
            "Test accuracy: 0.9843999743461609\n"
          ],
          "name": "stdout"
        },
        {
          "output_type": "display_data",
          "data": {
            "image/png": "[encoded data removed]",
            "text/plain": [
              "<Figure size 432x288 with 1 Axes>"
            ]
          },
          "metadata": {
            "needs_background": "light"
          }
        }
      ]
    },
    {
      "cell_type": "code",
      "metadata": {
        "colab": {
          "base_uri": "https://localhost:8080/"
        },
        "id": "OLFNROrdO3DN",
        "outputId": "38273748-43ef-4fae-87dd-2645279953a4"
      },
      "source": [
        "for layers in model3_relu.layers:\n",
        "    print(\"layer name\",layers.name,\",input shape\",layers.input_shape,\",output shape\",layers.output_shape,\",bias shape\",layers.bias.shape)\n",
        "w_after = model3_relu.get_weights()\n",
        "print(len(w_after))\n",
        "    \n",
        "for i in range(len(w_after)):\n",
        "    print(w_after[i].shape)"
      ],
      "execution_count": 62,
      "outputs": [
        {
          "output_type": "stream",
          "text": [
            "layer name dense_22 ,input shape (None, 784) ,output shape (None, 600) ,bias shape (600,)\n",
            "layer name dense_23 ,input shape (None, 600) ,output shape (None, 300) ,bias shape (300,)\n",
            "layer name dense_24 ,input shape (None, 300) ,output shape (None, 150) ,bias shape (150,)\n",
            "layer name dense_25 ,input shape (None, 150) ,output shape (None, 75) ,bias shape (75,)\n",
            "layer name dense_26 ,input shape (None, 75) ,output shape (None, 30) ,bias shape (30,)\n",
            "layer name dense_27 ,input shape (None, 30) ,output shape (None, 10) ,bias shape (10,)\n",
            "12\n",
            "(784, 600)\n",
            "(600,)\n",
            "(600, 300)\n",
            "(300,)\n",
            "(300, 150)\n",
            "(150,)\n",
            "(150, 75)\n",
            "(75,)\n",
            "(75, 30)\n",
            "(30,)\n",
            "(30, 10)\n",
            "(10,)\n"
          ],
          "name": "stdout"
        }
      ]
    },
    {
      "cell_type": "code",
      "metadata": {
        "colab": {
          "base_uri": "https://localhost:8080/",
          "height": 209
        },
        "id": "2pX7RQw2O3DN",
        "outputId": "eddedfb5-5a8b-4b0d-a3ca-4ed67a3f4298"
      },
      "source": [
        "w_after = model3_relu.get_weights()\n",
        "\n",
        "h1_w = w_after[0].flatten().reshape(-1,1)\n",
        "h2_w = w_after[2].flatten().reshape(-1,1)\n",
        "h3_w = w_after[4].flatten().reshape(-1,1)\n",
        "h4_w = w_after[6].flatten().reshape(-1,1)\n",
        "h5_w = w_after[8].flatten().reshape(-1,1)\n",
        "out_w = w_after[10].flatten().reshape(-1,1)\n",
        "\n",
        "\n",
        "fig = plt.figure()\n",
        "plt.title(\"Weight matrices after model trained\")\n",
        "plt.subplot(3, 3, 1)\n",
        "plt.title(\"Trained model Weights\")\n",
        "ax = sns.violinplot(y=h1_w,color='b')\n",
        "plt.xlabel('Hidden Layer 1')\n",
        "\n",
        "plt.subplot(3, 3, 2)\n",
        "plt.title(\"Trained model Weights\")\n",
        "ax = sns.violinplot(y=h2_w, color='r')\n",
        "plt.xlabel('Hidden Layer 2 ')\n",
        "\n",
        "plt.subplot(3, 3, 3)\n",
        "plt.title(\"Trained model Weights\")\n",
        "ax = sns.violinplot(y=h3_w, color='r')\n",
        "plt.xlabel('Hidden Layer 3 ')\n",
        "\n",
        "plt.subplot(3, 3, 4)\n",
        "plt.title(\"Trained model Weights\")\n",
        "ax = sns.violinplot(y=h4_w, color='r')\n",
        "plt.xlabel('Hidden Layer 4 ')\n",
        "\n",
        "plt.subplot(3, 3, 5)\n",
        "plt.title(\"Trained model Weights\")\n",
        "ax = sns.violinplot(y=h5_w, color='r')\n",
        "plt.xlabel('Hidden Layer 5 ')\n",
        "\n",
        "plt.subplot(3, 3, 6)\n",
        "plt.title(\"Trained model Weights\")\n",
        "ax = sns.violinplot(y=out_w,color='y')\n",
        "plt.xlabel('Output Layer ')\n",
        "plt.show()"
      ],
      "execution_count": 63,
      "outputs": [
        {
          "output_type": "display_data",
          "data": {
            "image/png": "[encoded data removed]",
            "text/plain": [
              "<Figure size 432x288 with 6 Axes>"
            ]
          },
          "metadata": {
            "needs_background": "light"
          }
        }
      ]
    },
    {
      "cell_type": "markdown",
      "metadata": {
        "id": "3S_TjAtVO3DN"
      },
      "source": [
        "### 3.2 batch Normalization"
      ]
    },
    {
      "cell_type": "code",
      "metadata": {
        "colab": {
          "base_uri": "https://localhost:8080/"
        },
        "id": "qlvLRQNkO3DN",
        "outputId": "27553e56-8525-4409-ddf2-2c30dc1b413f"
      },
      "source": [
        "\n",
        "\n",
        "model3_batch = Sequential()\n",
        "\n",
        "model3_batch.add(Dense(600, activation='relu', input_shape=(input_dim,), kernel_initializer=RandomNormal(mean=0.0, stddev=0.05, seed=None)))\n",
        "model3_batch.add(BatchNormalization())\n",
        "\n",
        "model3_batch.add(Dense(300, activation='relu', kernel_initializer=RandomNormal(mean=0.0, stddev=0.08, seed=None)) )\n",
        "model3_batch.add(BatchNormalization())\n",
        "\n",
        "model3_batch.add(Dense(150, activation='relu', kernel_initializer=RandomNormal(mean=0.0, stddev=0.115, seed=None)) )\n",
        "model3_batch.add(BatchNormalization())\n",
        "\n",
        "model3_batch.add(Dense(75, activation='relu', kernel_initializer=RandomNormal(mean=0.0, stddev=0.163, seed=None)) )\n",
        "model3_batch.add(BatchNormalization())\n",
        "\n",
        "model3_batch.add(Dense(30, activation='relu', kernel_initializer=RandomNormal(mean=0.0, stddev=0.258, seed=None)) )\n",
        "model3_batch.add(BatchNormalization())\n",
        "\n",
        "model3_batch.add(Dense(output_dim, activation='softmax'))\n",
        "\n",
        "\n",
        "model3_batch.summary()"
      ],
      "execution_count": 66,
      "outputs": [
        {
          "output_type": "stream",
          "text": [
            "Model: \"sequential_13\"\n",
            "_________________________________________________________________\n",
            "Layer (type)                 Output Shape              Param #   \n",
            "=================================================================\n",
            "dense_29 (Dense)             (None, 600)               471000    \n",
            "_________________________________________________________________\n",
            "module_wrapper_20 (ModuleWra (None, 600)               2400      \n",
            "_________________________________________________________________\n",
            "dense_30 (Dense)             (None, 300)               180300    \n",
            "_________________________________________________________________\n",
            "module_wrapper_21 (ModuleWra (None, 300)               1200      \n",
            "_________________________________________________________________\n",
            "dense_31 (Dense)             (None, 150)               45150     \n",
            "_________________________________________________________________\n",
            "module_wrapper_22 (ModuleWra (None, 150)               600       \n",
            "_________________________________________________________________\n",
            "dense_32 (Dense)             (None, 75)                11325     \n",
            "_________________________________________________________________\n",
            "module_wrapper_23 (ModuleWra (None, 75)                300       \n",
            "_________________________________________________________________\n",
            "dense_33 (Dense)             (None, 30)                2280      \n",
            "_________________________________________________________________\n",
            "module_wrapper_24 (ModuleWra (None, 30)                120       \n",
            "_________________________________________________________________\n",
            "dense_34 (Dense)             (None, 10)                310       \n",
            "=================================================================\n",
            "Total params: 714,985\n",
            "Trainable params: 712,675\n",
            "Non-trainable params: 2,310\n",
            "_________________________________________________________________\n"
          ],
          "name": "stdout"
        }
      ]
    },
    {
      "cell_type": "code",
      "metadata": {
        "colab": {
          "base_uri": "https://localhost:8080/"
        },
        "id": "VtO7Nc8WO3DN",
        "outputId": "d1a21e07-e61c-4c6b-8bbd-ec239aa219ab"
      },
      "source": [
        "model3_batch.compile(optimizer='adam', loss='categorical_crossentropy', metrics=['accuracy'])\n",
        "\n",
        "history = model3_batch.fit(X_train, Y_train, batch_size=batch_size, epochs=nb_epoch, verbose=1, validation_data=(X_test, Y_test))"
      ],
      "execution_count": 67,
      "outputs": [
        {
          "output_type": "stream",
          "text": [
            "Epoch 1/20\n",
            "600/600 [==============================] - 10s 15ms/step - loss: 0.2466 - accuracy: 0.9336 - val_loss: 0.1189 - val_accuracy: 0.9641\n",
            "Epoch 2/20\n",
            "600/600 [==============================] - 9s 15ms/step - loss: 0.0928 - accuracy: 0.9719 - val_loss: 0.0979 - val_accuracy: 0.9704\n",
            "Epoch 3/20\n",
            "600/600 [==============================] - 9s 16ms/step - loss: 0.0671 - accuracy: 0.9790 - val_loss: 0.0857 - val_accuracy: 0.9733\n",
            "Epoch 4/20\n",
            "600/600 [==============================] - 9s 15ms/step - loss: 0.0506 - accuracy: 0.9832 - val_loss: 0.0709 - val_accuracy: 0.9798\n",
            "Epoch 5/20\n",
            "600/600 [==============================] - 9s 16ms/step - loss: 0.0430 - accuracy: 0.9863 - val_loss: 0.0929 - val_accuracy: 0.9727\n",
            "Epoch 6/20\n",
            "600/600 [==============================] - 9s 16ms/step - loss: 0.0384 - accuracy: 0.9880 - val_loss: 0.0871 - val_accuracy: 0.9751\n",
            "Epoch 7/20\n",
            "600/600 [==============================] - 9s 15ms/step - loss: 0.0309 - accuracy: 0.9905 - val_loss: 0.0739 - val_accuracy: 0.9783\n",
            "Epoch 8/20\n",
            "600/600 [==============================] - 9s 15ms/step - loss: 0.0303 - accuracy: 0.9897 - val_loss: 0.0699 - val_accuracy: 0.9805\n",
            "Epoch 9/20\n",
            "600/600 [==============================] - 9s 15ms/step - loss: 0.0266 - accuracy: 0.9914 - val_loss: 0.0720 - val_accuracy: 0.9793\n",
            "Epoch 10/20\n",
            "600/600 [==============================] - 10s 16ms/step - loss: 0.0241 - accuracy: 0.9921 - val_loss: 0.0843 - val_accuracy: 0.9776\n",
            "Epoch 11/20\n",
            "600/600 [==============================] - 9s 15ms/step - loss: 0.0221 - accuracy: 0.9931 - val_loss: 0.0801 - val_accuracy: 0.9788\n",
            "Epoch 12/20\n",
            "600/600 [==============================] - 9s 15ms/step - loss: 0.0179 - accuracy: 0.9944 - val_loss: 0.0731 - val_accuracy: 0.9799\n",
            "Epoch 13/20\n",
            "600/600 [==============================] - 9s 15ms/step - loss: 0.0186 - accuracy: 0.9942 - val_loss: 0.0722 - val_accuracy: 0.9804\n",
            "Epoch 14/20\n",
            "600/600 [==============================] - 9s 15ms/step - loss: 0.0187 - accuracy: 0.9938 - val_loss: 0.0834 - val_accuracy: 0.9792\n",
            "Epoch 15/20\n",
            "600/600 [==============================] - 9s 15ms/step - loss: 0.0188 - accuracy: 0.9940 - val_loss: 0.0729 - val_accuracy: 0.9807\n",
            "Epoch 16/20\n",
            "600/600 [==============================] - 9s 15ms/step - loss: 0.0149 - accuracy: 0.9952 - val_loss: 0.0674 - val_accuracy: 0.9844\n",
            "Epoch 17/20\n",
            "600/600 [==============================] - 9s 16ms/step - loss: 0.0138 - accuracy: 0.9954 - val_loss: 0.0674 - val_accuracy: 0.9814\n",
            "Epoch 18/20\n",
            "600/600 [==============================] - 9s 16ms/step - loss: 0.0164 - accuracy: 0.9946 - val_loss: 0.0663 - val_accuracy: 0.9815\n",
            "Epoch 19/20\n",
            "600/600 [==============================] - 9s 16ms/step - loss: 0.0125 - accuracy: 0.9959 - val_loss: 0.0749 - val_accuracy: 0.9816\n",
            "Epoch 20/20\n",
            "600/600 [==============================] - 9s 16ms/step - loss: 0.0131 - accuracy: 0.9959 - val_loss: 0.0706 - val_accuracy: 0.9830\n"
          ],
          "name": "stdout"
        }
      ]
    },
    {
      "cell_type": "code",
      "metadata": {
        "colab": {
          "base_uri": "https://localhost:8080/",
          "height": 313
        },
        "id": "vw14VFxKO3DN",
        "outputId": "bb585e1a-6750-42e0-ac2a-0b0d65a4a186"
      },
      "source": [
        "score = model3_batch.evaluate(X_test, Y_test, verbose=0) \n",
        "print('Test score:', score[0]) \n",
        "print('Test accuracy:', score[1])\n",
        "\n",
        "fig,ax = plt.subplots(1,1)\n",
        "ax.set_xlabel('epoch') ; ax.set_ylabel('Categorical Crossentropy Loss')\n",
        "\n",
        "# list of epoch numbers\n",
        "x = list(range(1,nb_epoch+1))\n",
        "\n",
        "# print(history.history.keys())\n",
        "# dict_keys(['val_loss', 'val_acc', 'loss', 'acc'])\n",
        "# history = model_drop.fit(X_train, Y_train, batch_size=batch_size, epochs=nb_epoch, verbose=1, validation_data=(X_test, Y_test))\n",
        "\n",
        "# we will get val_loss and val_acc only when you pass the paramter validation_data\n",
        "# val_loss : validation loss\n",
        "# val_acc : validation accuracy\n",
        "\n",
        "# loss : training loss\n",
        "# acc : train accuracy\n",
        "# for each key in histrory.histrory we will have a list of length equal to number of epochs\n",
        "\n",
        "vy = history.history['val_loss']\n",
        "ty = history.history['loss']\n",
        "plt_dynamic(x, vy, ty, ax)"
      ],
      "execution_count": 68,
      "outputs": [
        {
          "output_type": "stream",
          "text": [
            "Test score: 0.07062286138534546\n",
            "Test accuracy: 0.9829999804496765\n"
          ],
          "name": "stdout"
        },
        {
          "output_type": "display_data",
          "data": {
            "image/png": "[encoded data removed]",
            "text/plain": [
              "<Figure size 432x288 with 1 Axes>"
            ]
          },
          "metadata": {
            "needs_background": "light"
          }
        }
      ]
    },
    {
      "cell_type": "code",
      "metadata": {
        "colab": {
          "base_uri": "https://localhost:8080/"
        },
        "id": "2B9vW7hdO3DO",
        "outputId": "064ba41e-51bb-4681-bb00-edb01f891515"
      },
      "source": [
        "for layers in model3_batch.layers:\n",
        "    print(\"layer name\",layers.name,\",input shape\",layers.input_shape,\",output shape\",layers.output_shape)\n",
        "w_after = model3_batch.get_weights()\n",
        "print(len(w_after))\n",
        "    \n",
        "for i in range(len(w_after)):\n",
        "    print(w_after[i].shape)"
      ],
      "execution_count": 70,
      "outputs": [
        {
          "output_type": "stream",
          "text": [
            "layer name dense_29 ,input shape (None, 784) ,output shape (None, 600)\n",
            "layer name module_wrapper_20 ,input shape (None, 600) ,output shape (None, 600)\n",
            "layer name dense_30 ,input shape (None, 600) ,output shape (None, 300)\n",
            "layer name module_wrapper_21 ,input shape (None, 300) ,output shape (None, 300)\n",
            "layer name dense_31 ,input shape (None, 300) ,output shape (None, 150)\n",
            "layer name module_wrapper_22 ,input shape (None, 150) ,output shape (None, 150)\n",
            "layer name dense_32 ,input shape (None, 150) ,output shape (None, 75)\n",
            "layer name module_wrapper_23 ,input shape (None, 75) ,output shape (None, 75)\n",
            "layer name dense_33 ,input shape (None, 75) ,output shape (None, 30)\n",
            "layer name module_wrapper_24 ,input shape (None, 30) ,output shape (None, 30)\n",
            "layer name dense_34 ,input shape (None, 30) ,output shape (None, 10)\n",
            "32\n",
            "(784, 600)\n",
            "(600,)\n",
            "(600,)\n",
            "(600,)\n",
            "(600,)\n",
            "(600,)\n",
            "(600, 300)\n",
            "(300,)\n",
            "(300,)\n",
            "(300,)\n",
            "(300,)\n",
            "(300,)\n",
            "(300, 150)\n",
            "(150,)\n",
            "(150,)\n",
            "(150,)\n",
            "(150,)\n",
            "(150,)\n",
            "(150, 75)\n",
            "(75,)\n",
            "(75,)\n",
            "(75,)\n",
            "(75,)\n",
            "(75,)\n",
            "(75, 30)\n",
            "(30,)\n",
            "(30,)\n",
            "(30,)\n",
            "(30,)\n",
            "(30,)\n",
            "(30, 10)\n",
            "(10,)\n"
          ],
          "name": "stdout"
        }
      ]
    },
    {
      "cell_type": "code",
      "metadata": {
        "colab": {
          "base_uri": "https://localhost:8080/",
          "height": 209
        },
        "id": "DEYQGL0cO3DO",
        "outputId": "1c9a78ba-723c-42d1-981c-d871182af96b"
      },
      "source": [
        "w_after = model3_batch.get_weights()\n",
        "\n",
        "h1_w = w_after[0].flatten().reshape(-1,1)\n",
        "h2_w = w_after[6].flatten().reshape(-1,1)\n",
        "h3_w = w_after[12].flatten().reshape(-1,1)\n",
        "h4_w = w_after[18].flatten().reshape(-1,1)\n",
        "h5_w = w_after[24].flatten().reshape(-1,1)\n",
        "out_w = w_after[30].flatten().reshape(-1,1)\n",
        "\n",
        "\n",
        "fig = plt.figure()\n",
        "plt.title(\"Weight matrices after model trained\")\n",
        "plt.subplot(3, 3, 1)\n",
        "plt.title(\"Trained model Weights\")\n",
        "ax = sns.violinplot(y=h1_w,color='b')\n",
        "plt.xlabel('Hidden Layer 1')\n",
        "\n",
        "plt.subplot(3, 3, 2)\n",
        "plt.title(\"Trained model Weights\")\n",
        "ax = sns.violinplot(y=h2_w, color='r')\n",
        "plt.xlabel('Hidden Layer 2 ')\n",
        "\n",
        "plt.subplot(3, 3, 3)\n",
        "plt.title(\"Trained model Weights\")\n",
        "ax = sns.violinplot(y=h3_w, color='r')\n",
        "plt.xlabel('Hidden Layer 3 ')\n",
        "\n",
        "plt.subplot(3, 3,4)\n",
        "plt.title(\"Trained model Weights\")\n",
        "ax = sns.violinplot(y=h4_w, color='r')\n",
        "plt.xlabel('Hidden Layer 4 ')\n",
        "\n",
        "plt.subplot(3, 3, 5)\n",
        "plt.title(\"Trained model Weights\")\n",
        "ax = sns.violinplot(y=h5_w, color='r')\n",
        "plt.xlabel('Hidden Layer 5 ')\n",
        "\n",
        "plt.subplot(3, 3, 6)\n",
        "plt.title(\"Trained model Weights\")\n",
        "ax = sns.violinplot(y=out_w,color='y')\n",
        "plt.xlabel('Output Layer ')\n",
        "plt.show()"
      ],
      "execution_count": 72,
      "outputs": [
        {
          "output_type": "display_data",
          "data": {
            "image/png": "[encoded data removed]",
            "text/plain": [
              "<Figure size 432x288 with 6 Axes>"
            ]
          },
          "metadata": {
            "needs_background": "light"
          }
        }
      ]
    },
    {
      "cell_type": "markdown",
      "metadata": {
        "id": "aNKzwB64O3DO"
      },
      "source": [
        "### 3.3 drop out"
      ]
    },
    {
      "cell_type": "code",
      "metadata": {
        "colab": {
          "base_uri": "https://localhost:8080/"
        },
        "id": "VBVlMP2fO3DQ",
        "outputId": "6ea71885-0c18-4e3e-f12d-df1ebc202db0"
      },
      "source": [
        "from tensorflow.keras.layers import Dropout\n",
        "\n",
        "model3_drop = Sequential()\n",
        "\n",
        "model3_drop.add(Dense(600, activation='relu', input_shape=(input_dim,), kernel_initializer=RandomNormal(mean=0.0, stddev=0.05, seed=None)))\n",
        "model3_drop.add(BatchNormalization())\n",
        "model3_drop.add(Dropout(0.5))\n",
        "\n",
        "model3_drop.add(Dense(300, activation='relu', kernel_initializer=RandomNormal(mean=0.0, stddev=0.08, seed=None)) )\n",
        "model3_drop.add(BatchNormalization())\n",
        "model3_drop.add(Dropout(0.5))\n",
        "\n",
        "model3_drop.add(Dense(150, activation='relu', kernel_initializer=RandomNormal(mean=0.0, stddev=0.115, seed=None)) )\n",
        "model3_drop.add(BatchNormalization())\n",
        "model3_drop.add(Dropout(0.5))\n",
        "\n",
        "model3_drop.add(Dense(75, activation='relu', kernel_initializer=RandomNormal(mean=0.0, stddev=0.163, seed=None)) )\n",
        "model3_drop.add(BatchNormalization())\n",
        "model3_drop.add(Dropout(0.5))\n",
        "\n",
        "model3_drop.add(Dense(30, activation='relu', kernel_initializer=RandomNormal(mean=0.0, stddev=0.258, seed=None)) )\n",
        "model3_drop.add(BatchNormalization())\n",
        "model3_drop.add(Dropout(0.5))\n",
        "\n",
        "model3_drop.add(Dense(output_dim, activation='softmax'))\n",
        "\n",
        "\n",
        "model3_drop.summary()"
      ],
      "execution_count": 73,
      "outputs": [
        {
          "output_type": "stream",
          "text": [
            "Model: \"sequential_14\"\n",
            "_________________________________________________________________\n",
            "Layer (type)                 Output Shape              Param #   \n",
            "=================================================================\n",
            "dense_35 (Dense)             (None, 600)               471000    \n",
            "_________________________________________________________________\n",
            "module_wrapper_25 (ModuleWra (None, 600)               2400      \n",
            "_________________________________________________________________\n",
            "dropout_5 (Dropout)          (None, 600)               0         \n",
            "_________________________________________________________________\n",
            "dense_36 (Dense)             (None, 300)               180300    \n",
            "_________________________________________________________________\n",
            "module_wrapper_26 (ModuleWra (None, 300)               1200      \n",
            "_________________________________________________________________\n",
            "dropout_6 (Dropout)          (None, 300)               0         \n",
            "_________________________________________________________________\n",
            "dense_37 (Dense)             (None, 150)               45150     \n",
            "_________________________________________________________________\n",
            "module_wrapper_27 (ModuleWra (None, 150)               600       \n",
            "_________________________________________________________________\n",
            "dropout_7 (Dropout)          (None, 150)               0         \n",
            "_________________________________________________________________\n",
            "dense_38 (Dense)             (None, 75)                11325     \n",
            "_________________________________________________________________\n",
            "module_wrapper_28 (ModuleWra (None, 75)                300       \n",
            "_________________________________________________________________\n",
            "dropout_8 (Dropout)          (None, 75)                0         \n",
            "_________________________________________________________________\n",
            "dense_39 (Dense)             (None, 30)                2280      \n",
            "_________________________________________________________________\n",
            "module_wrapper_29 (ModuleWra (None, 30)                120       \n",
            "_________________________________________________________________\n",
            "dropout_9 (Dropout)          (None, 30)                0         \n",
            "_________________________________________________________________\n",
            "dense_40 (Dense)             (None, 10)                310       \n",
            "=================================================================\n",
            "Total params: 714,985\n",
            "Trainable params: 712,675\n",
            "Non-trainable params: 2,310\n",
            "_________________________________________________________________\n"
          ],
          "name": "stdout"
        }
      ]
    },
    {
      "cell_type": "code",
      "metadata": {
        "colab": {
          "base_uri": "https://localhost:8080/"
        },
        "id": "LyZDAIzaO3DQ",
        "outputId": "12455c69-080d-49c2-aac2-505af3ca61e1"
      },
      "source": [
        "model3_drop.compile(optimizer='adam', loss='categorical_crossentropy', metrics=['accuracy'])\n",
        "\n",
        "history = model3_drop.fit(X_train, Y_train, batch_size=batch_size, epochs=nb_epoch, verbose=1, validation_data=(X_test, Y_test))"
      ],
      "execution_count": 74,
      "outputs": [
        {
          "output_type": "stream",
          "text": [
            "Epoch 1/20\n",
            "600/600 [==============================] - 12s 17ms/step - loss: 1.4529 - accuracy: 0.5181 - val_loss: 0.3517 - val_accuracy: 0.9005\n",
            "Epoch 2/20\n",
            "600/600 [==============================] - 10s 17ms/step - loss: 0.5887 - accuracy: 0.8265 - val_loss: 0.1942 - val_accuracy: 0.9475\n",
            "Epoch 3/20\n",
            "600/600 [==============================] - 10s 17ms/step - loss: 0.4119 - accuracy: 0.8928 - val_loss: 0.1587 - val_accuracy: 0.9571\n",
            "Epoch 4/20\n",
            "600/600 [==============================] - 10s 17ms/step - loss: 0.3392 - accuracy: 0.9167 - val_loss: 0.1446 - val_accuracy: 0.9627\n",
            "Epoch 5/20\n",
            "600/600 [==============================] - 10s 17ms/step - loss: 0.2871 - accuracy: 0.9305 - val_loss: 0.1158 - val_accuracy: 0.9700\n",
            "Epoch 6/20\n",
            "600/600 [==============================] - 10s 17ms/step - loss: 0.2568 - accuracy: 0.9398 - val_loss: 0.1238 - val_accuracy: 0.9696\n",
            "Epoch 7/20\n",
            "600/600 [==============================] - 10s 17ms/step - loss: 0.2320 - accuracy: 0.9455 - val_loss: 0.1117 - val_accuracy: 0.9732\n",
            "Epoch 8/20\n",
            "600/600 [==============================] - 10s 17ms/step - loss: 0.2219 - accuracy: 0.9477 - val_loss: 0.1028 - val_accuracy: 0.9759\n",
            "Epoch 9/20\n",
            "600/600 [==============================] - 10s 17ms/step - loss: 0.2121 - accuracy: 0.9515 - val_loss: 0.1039 - val_accuracy: 0.9760\n",
            "Epoch 10/20\n",
            "600/600 [==============================] - 10s 17ms/step - loss: 0.1937 - accuracy: 0.9563 - val_loss: 0.1031 - val_accuracy: 0.9771\n",
            "Epoch 11/20\n",
            "600/600 [==============================] - 10s 16ms/step - loss: 0.1811 - accuracy: 0.9588 - val_loss: 0.0954 - val_accuracy: 0.9775\n",
            "Epoch 12/20\n",
            "600/600 [==============================] - 10s 17ms/step - loss: 0.1762 - accuracy: 0.9614 - val_loss: 0.0949 - val_accuracy: 0.9767\n",
            "Epoch 13/20\n",
            "600/600 [==============================] - 10s 17ms/step - loss: 0.1684 - accuracy: 0.9622 - val_loss: 0.0879 - val_accuracy: 0.9805\n",
            "Epoch 14/20\n",
            "600/600 [==============================] - 10s 17ms/step - loss: 0.1656 - accuracy: 0.9623 - val_loss: 0.0905 - val_accuracy: 0.9789\n",
            "Epoch 15/20\n",
            "600/600 [==============================] - 10s 17ms/step - loss: 0.1544 - accuracy: 0.9659 - val_loss: 0.0831 - val_accuracy: 0.9806\n",
            "Epoch 16/20\n",
            "600/600 [==============================] - 10s 17ms/step - loss: 0.1530 - accuracy: 0.9656 - val_loss: 0.0813 - val_accuracy: 0.9812\n",
            "Epoch 17/20\n",
            "600/600 [==============================] - 10s 17ms/step - loss: 0.1492 - accuracy: 0.9669 - val_loss: 0.0779 - val_accuracy: 0.9829\n",
            "Epoch 18/20\n",
            "600/600 [==============================] - 10s 17ms/step - loss: 0.1421 - accuracy: 0.9681 - val_loss: 0.0764 - val_accuracy: 0.9818\n",
            "Epoch 19/20\n",
            "600/600 [==============================] - 10s 17ms/step - loss: 0.1374 - accuracy: 0.9689 - val_loss: 0.0816 - val_accuracy: 0.9821\n",
            "Epoch 20/20\n",
            "600/600 [==============================] - 10s 17ms/step - loss: 0.1314 - accuracy: 0.9700 - val_loss: 0.0738 - val_accuracy: 0.9837\n"
          ],
          "name": "stdout"
        }
      ]
    },
    {
      "cell_type": "code",
      "metadata": {
        "colab": {
          "base_uri": "https://localhost:8080/",
          "height": 313
        },
        "id": "HfvOSVcEO3DQ",
        "outputId": "12691503-5be5-4651-892d-0900dc5e7d58"
      },
      "source": [
        "score = model3_drop.evaluate(X_test, Y_test, verbose=0) \n",
        "print('Test score:', score[0]) \n",
        "print('Test accuracy:', score[1])\n",
        "\n",
        "fig,ax = plt.subplots(1,1)\n",
        "ax.set_xlabel('epoch') ; ax.set_ylabel('Categorical Crossentropy Loss')\n",
        "\n",
        "# list of epoch numbers\n",
        "x = list(range(1,nb_epoch+1))\n",
        "\n",
        "# print(history.history.keys())\n",
        "# dict_keys(['val_loss', 'val_acc', 'loss', 'acc'])\n",
        "# history = model_drop.fit(X_train, Y_train, batch_size=batch_size, epochs=nb_epoch, verbose=1, validation_data=(X_test, Y_test))\n",
        "\n",
        "# we will get val_loss and val_acc only when you pass the paramter validation_data\n",
        "# val_loss : validation loss\n",
        "# val_acc : validation accuracy\n",
        "\n",
        "# loss : training loss\n",
        "# acc : train accuracy\n",
        "# for each key in histrory.histrory we will have a list of length equal to number of epochs\n",
        "\n",
        "vy = history.history['val_loss']\n",
        "ty = history.history['loss']\n",
        "plt_dynamic(x, vy, ty, ax)"
      ],
      "execution_count": 75,
      "outputs": [
        {
          "output_type": "stream",
          "text": [
            "Test score: 0.07375040650367737\n",
            "Test accuracy: 0.9836999773979187\n"
          ],
          "name": "stdout"
        },
        {
          "output_type": "display_data",
          "data": {
            "image/png": "[encoded data removed]",
            "text/plain": [
              "<Figure size 432x288 with 1 Axes>"
            ]
          },
          "metadata": {
            "needs_background": "light"
          }
        }
      ]
    },
    {
      "cell_type": "code",
      "metadata": {
        "colab": {
          "base_uri": "https://localhost:8080/"
        },
        "id": "3DwIVlYUO3DQ",
        "outputId": "41e1c535-c918-4d01-e0ea-3f1b0bc431a2"
      },
      "source": [
        "for layers in model3_drop.layers:\n",
        "    print(\"layer name\",layers.name,\",input shape\",layers.input_shape,\",output shape\",layers.output_shape)\n",
        "w_after = model3_drop.get_weights()\n",
        "print(len(w_after))\n",
        "    \n",
        "for i in range(len(w_after)):\n",
        "    print(w_after[i].shape)"
      ],
      "execution_count": 77,
      "outputs": [
        {
          "output_type": "stream",
          "text": [
            "layer name dense_35 ,input shape (None, 784) ,output shape (None, 600)\n",
            "layer name module_wrapper_25 ,input shape (None, 600) ,output shape (None, 600)\n",
            "layer name dropout_5 ,input shape (None, 600) ,output shape (None, 600)\n",
            "layer name dense_36 ,input shape (None, 600) ,output shape (None, 300)\n",
            "layer name module_wrapper_26 ,input shape (None, 300) ,output shape (None, 300)\n",
            "layer name dropout_6 ,input shape (None, 300) ,output shape (None, 300)\n",
            "layer name dense_37 ,input shape (None, 300) ,output shape (None, 150)\n",
            "layer name module_wrapper_27 ,input shape (None, 150) ,output shape (None, 150)\n",
            "layer name dropout_7 ,input shape (None, 150) ,output shape (None, 150)\n",
            "layer name dense_38 ,input shape (None, 150) ,output shape (None, 75)\n",
            "layer name module_wrapper_28 ,input shape (None, 75) ,output shape (None, 75)\n",
            "layer name dropout_8 ,input shape (None, 75) ,output shape (None, 75)\n",
            "layer name dense_39 ,input shape (None, 75) ,output shape (None, 30)\n",
            "layer name module_wrapper_29 ,input shape (None, 30) ,output shape (None, 30)\n",
            "layer name dropout_9 ,input shape (None, 30) ,output shape (None, 30)\n",
            "layer name dense_40 ,input shape (None, 30) ,output shape (None, 10)\n",
            "32\n",
            "(784, 600)\n",
            "(600,)\n",
            "(600,)\n",
            "(600,)\n",
            "(600,)\n",
            "(600,)\n",
            "(600, 300)\n",
            "(300,)\n",
            "(300,)\n",
            "(300,)\n",
            "(300,)\n",
            "(300,)\n",
            "(300, 150)\n",
            "(150,)\n",
            "(150,)\n",
            "(150,)\n",
            "(150,)\n",
            "(150,)\n",
            "(150, 75)\n",
            "(75,)\n",
            "(75,)\n",
            "(75,)\n",
            "(75,)\n",
            "(75,)\n",
            "(75, 30)\n",
            "(30,)\n",
            "(30,)\n",
            "(30,)\n",
            "(30,)\n",
            "(30,)\n",
            "(30, 10)\n",
            "(10,)\n"
          ],
          "name": "stdout"
        }
      ]
    },
    {
      "cell_type": "code",
      "metadata": {
        "colab": {
          "base_uri": "https://localhost:8080/",
          "height": 209
        },
        "id": "cToafHJOO3DQ",
        "outputId": "b2a2fb4b-1a18-48f2-fb07-b65d7a373551"
      },
      "source": [
        "w_after = model3_drop.get_weights()\n",
        "\n",
        "h1_w = w_after[0].flatten().reshape(-1,1)\n",
        "h2_w = w_after[6].flatten().reshape(-1,1)\n",
        "h3_w = w_after[12].flatten().reshape(-1,1)\n",
        "h4_w = w_after[18].flatten().reshape(-1,1)\n",
        "h5_w = w_after[24].flatten().reshape(-1,1)\n",
        "out_w = w_after[30].flatten().reshape(-1,1)\n",
        "\n",
        "\n",
        "fig = plt.figure()\n",
        "plt.title(\"Weight matrices after model trained\")\n",
        "plt.subplot(3, 3, 1)\n",
        "plt.title(\"Trained model Weights\")\n",
        "ax = sns.violinplot(y=h1_w,color='b')\n",
        "plt.xlabel('Hidden Layer 1')\n",
        "\n",
        "plt.subplot(3, 3, 2)\n",
        "plt.title(\"Trained model Weights\")\n",
        "ax = sns.violinplot(y=h2_w, color='r')\n",
        "plt.xlabel('Hidden Layer 2 ')\n",
        "\n",
        "plt.subplot(3, 3, 3)\n",
        "plt.title(\"Trained model Weights\")\n",
        "ax = sns.violinplot(y=h3_w, color='r')\n",
        "plt.xlabel('Hidden Layer 3 ')\n",
        "\n",
        "plt.subplot(3, 3,4)\n",
        "plt.title(\"Trained model Weights\")\n",
        "ax = sns.violinplot(y=h4_w, color='r')\n",
        "plt.xlabel('Hidden Layer 4 ')\n",
        "\n",
        "plt.subplot(3, 3, 5)\n",
        "plt.title(\"Trained model Weights\")\n",
        "ax = sns.violinplot(y=h5_w, color='r')\n",
        "plt.xlabel('Hidden Layer 5 ')\n",
        "\n",
        "plt.subplot(3, 3, 6)\n",
        "plt.title(\"Trained model Weights\")\n",
        "ax = sns.violinplot(y=out_w,color='y')\n",
        "plt.xlabel('Output Layer ')\n",
        "plt.show()"
      ],
      "execution_count": 78,
      "outputs": [
        {
          "output_type": "display_data",
          "data": {
            "image/png": "[encoded data removed]",
            "text/plain": [
              "<Figure size 432x288 with 6 Axes>"
            ]
          },
          "metadata": {
            "needs_background": "light"
          }
        }
      ]
    },
    {
      "cell_type": "markdown",
      "metadata": {
        "id": "hNBitnsFaf7-"
      },
      "source": [
        "<h2>4.observation table</h2>\n"
      ]
    },
    {
      "cell_type": "code",
      "metadata": {
        "colab": {
          "base_uri": "https://localhost:8080/"
        },
        "id": "6JwnknJXaptO",
        "outputId": "f7902f3f-9712-4dfc-f202-8bec2e0de1a3"
      },
      "source": [
        "from prettytable import PrettyTable\n",
        "x = PrettyTable()\n",
        "\n",
        "x = PrettyTable()\n",
        "x.field_names = [\"layers\", \"Model\", \"epoch\", \"batch size\",\"test score\",\"accuracy\"]\n",
        "x.add_row([\"two layers\", \"Relu+adam optimizer\", \"20\" ,\"128\",\"0.09\",\"98\"])\n",
        "x.add_row([\"two layers\", \"Relu+Batch Nor.+adam optimizer\", \"20\" ,\"128\",\"0.08\",\"97\"])\n",
        "x.add_row([\"two layers\", \"Relu+Batch Nor+dropout+adam optimizer\", \"20\" ,\"128\",\"0.06\",\"98\"])\n",
        "\n",
        "x.add_row([\"three layers\", \"Relu+adam optimizer\", \"30\" ,\"150\",\"0.10\",\"98\"])\n",
        "x.add_row([\"three layers\", \"Relu+Batch Nor.+adam optimizer\", \"30\" ,\"150\",\"0.09\",\"98\"])\n",
        "x.add_row([\"three layers\", \"Relu+Batch Nor+dropout+adam optimizer\", \"30\" ,\"150\",\"0.06\",\"98\"])\n",
        "\n",
        "x.add_row([\"five layers\", \"Relu+adam optimizer\", \"20\" ,\"100\",\"0.09\",\"98\"])\n",
        "x.add_row([\"five layers\", \"Relu+Batch Nor.+adam optimizer\", \"20\" ,\"100\",\"0.07\",\"98\"])\n",
        "x.add_row([\"five layers\", \"Relu+Batch Nor+dropout+adam optimizer\", \"20\" ,\"100\",\"0.07\",\"98\"])\n",
        "\n",
        "\n",
        "print(x)"
      ],
      "execution_count": 81,
      "outputs": [
        {
          "output_type": "stream",
          "text": [
            "+--------------+---------------------------------------+-------+------------+------------+----------+\n",
            "|    layers    |                 Model                 | epoch | batch size | test score | accuracy |\n",
            "+--------------+---------------------------------------+-------+------------+------------+----------+\n",
            "|  two layers  |          Relu+adam optimizer          |   20  |    128     |    0.09    |    98    |\n",
            "|  two layers  |     Relu+Batch Nor.+adam optimizer    |   20  |    128     |    0.08    |    97    |\n",
            "|  two layers  | Relu+Batch Nor+dropout+adam optimizer |   20  |    128     |    0.06    |    98    |\n",
            "| three layers |          Relu+adam optimizer          |   30  |    150     |    0.10    |    98    |\n",
            "| three layers |     Relu+Batch Nor.+adam optimizer    |   30  |    150     |    0.09    |    98    |\n",
            "| three layers | Relu+Batch Nor+dropout+adam optimizer |   30  |    150     |    0.06    |    98    |\n",
            "| five layers  |          Relu+adam optimizer          |   20  |    100     |    0.09    |    98    |\n",
            "| five layers  |     Relu+Batch Nor.+adam optimizer    |   20  |    100     |    0.07    |    98    |\n",
            "| five layers  | Relu+Batch Nor+dropout+adam optimizer |   20  |    100     |    0.07    |    98    |\n",
            "+--------------+---------------------------------------+-------+------------+------------+----------+\n"
          ],
          "name": "stdout"
        }
      ]
    },
    {
      "cell_type": "markdown",
      "metadata": {
        "id": "6Lgxn6fPeg-H"
      },
      "source": [
        "## 5.Conclusion\n",
        "\n",
        "\n",
        "1.As the number of layers increse We face overfit proble\n",
        "\n",
        "2.Model give better performance for batch narmalization and drop out"
      ]
    }
  ]
}